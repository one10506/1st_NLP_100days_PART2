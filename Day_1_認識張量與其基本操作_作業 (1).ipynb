{
 "cells": [
  {
   "cell_type": "markdown",
   "metadata": {},
   "source": [
    "### 作業目的: 更加熟習pytorch的tensor操作\n",
    "\n",
    "pytorch中有提供很多的API，讓使用者針對tensor進行各式各樣的操作，本次的作業希望讀者由pytorch的[官方網站](https://pytorch.org/docs/stable/torch.html)中選定四個針對tensor操作的API，對他的使用方法進行範例操作演練。"
   ]
  },
  {
   "cell_type": "markdown",
   "metadata": {},
   "source": [
    "### 選定的API 函數\n",
    "\n",
    "**請寫下選定的API functions**\n",
    "\n",
    "ex:\n",
    "* torch.from_array() / tensor.numpy()\n",
    "* torch.unsqueeze() / torch.squeeze()\n",
    "* tensor.transpose() / tensor.permute()\n",
    "* torch.reshape() / tensor.view()"
   ]
  },
  {
   "cell_type": "code",
   "execution_count": 1,
   "metadata": {},
   "outputs": [],
   "source": [
    "# Import torch and other required modules\n",
    "import torch\n",
    "import numpy as np"
   ]
  },
  {
   "cell_type": "markdown",
   "metadata": {},
   "source": [
    "### 範例:\n",
    "### Function 1 - torch.from_array() / tensor.numpy()"
   ]
  },
  {
   "cell_type": "code",
   "execution_count": 2,
   "metadata": {},
   "outputs": [
    {
     "name": "stdout",
     "output_type": "stream",
     "text": [
      "a: <class 'numpy.ndarray'>, float64\n",
      "b: <class 'torch.Tensor'>, torch.float64\n",
      "c: <class 'torch.Tensor'>, torch.float64\n",
      "d: <class 'numpy.ndarray'>, float64\n"
     ]
    }
   ],
   "source": [
    "# Example 1 - 將torch tensor與numpy ndarray互相轉換\n",
    "a = np.random.rand(1,2,3,3)\n",
    "print(f'a: {type(a)}, {a.dtype}')\n",
    "b = torch.from_numpy(a)\n",
    "print(f'b: {type(b)}, {b.dtype}')\n",
    "c = torch.tensor(a)\n",
    "print(f'c: {type(c)}, {c.dtype}')\n",
    "d = c.numpy()\n",
    "print(f'd: {type(d)}, {d.dtype}')"
   ]
  },
  {
   "cell_type": "code",
   "execution_count": 3,
   "metadata": {},
   "outputs": [
    {
     "name": "stdout",
     "output_type": "stream",
     "text": [
      "a: <class 'numpy.ndarray'>, int64\n",
      "b: <class 'torch.Tensor'>, torch.int64\n",
      "c: <class 'torch.Tensor'>, torch.int64\n",
      "d: <class 'numpy.ndarray'>, int64\n"
     ]
    }
   ],
   "source": [
    "# Example 2 - 經過轉換後，torch tensor與numpy array依然有相近的資料型態\n",
    "a = np.random.randint(low=0, high=10, size=(2,2))\n",
    "print(f'a: {type(a)}, {a.dtype}')\n",
    "b = torch.from_numpy(a)\n",
    "print(f'b: {type(b)}, {b.dtype}')\n",
    "c = torch.tensor(a)\n",
    "print(f'c: {type(c)}, {c.dtype}')\n",
    "d = c.numpy()\n",
    "print(f'd: {type(d)}, {d.dtype}')"
   ]
  },
  {
   "cell_type": "markdown",
   "metadata": {},
   "source": [
    "### Function 1 - *your function to illustrate*"
   ]
  },
  {
   "cell_type": "code",
   "execution_count": 4,
   "metadata": {},
   "outputs": [
    {
     "name": "stdout",
     "output_type": "stream",
     "text": [
      "torch.Size([2, 2, 3])\n",
      "torch.Size([2, 1, 2, 3])\n"
     ]
    },
    {
     "data": {
      "text/plain": [
       "(tensor([[[1, 2, 3],\n",
       "          [3, 4, 5]],\n",
       " \n",
       "         [[5, 6, 7],\n",
       "          [7, 8, 9]]]),\n",
       " tensor([[[[1, 2, 3],\n",
       "           [3, 4, 5]]],\n",
       " \n",
       " \n",
       "         [[[5, 6, 7],\n",
       "           [7, 8, 9]]]]))"
      ]
     },
     "execution_count": 4,
     "metadata": {},
     "output_type": "execute_result"
    }
   ],
   "source": [
    "# Example 1 - ### your explanation ###\n",
    "### your code ###\n",
    "#unsqueeze()\n",
    "a=torch.tensor([[[1, 2, 3], [3, 4, 5]],[[5, 6, 7], [7, 8, 9]]])\n",
    "a_unsqueeze = torch.unsqueeze(a,dim=1)\n",
    "print(a.shape)\n",
    "print(a_unsqueeze.shape)\n",
    "a,a_unsqueeze"
   ]
  },
  {
   "cell_type": "code",
   "execution_count": 5,
   "metadata": {},
   "outputs": [
    {
     "name": "stdout",
     "output_type": "stream",
     "text": [
      "torch.Size([2, 2, 3])\n"
     ]
    },
    {
     "data": {
      "text/plain": [
       "tensor([[[1, 2, 3],\n",
       "         [3, 4, 5]],\n",
       "\n",
       "        [[5, 6, 7],\n",
       "         [7, 8, 9]]])"
      ]
     },
     "execution_count": 5,
     "metadata": {},
     "output_type": "execute_result"
    }
   ],
   "source": [
    "# Example 2 - ### your explanation ###\n",
    "### your code ###\n",
    "#squeeze()\n",
    "a_squeeze = a_unsqueeze.squeeze(1)\n",
    "print(a_squeeze.shape)\n",
    "a_squeeze"
   ]
  },
  {
   "cell_type": "markdown",
   "metadata": {},
   "source": [
    "### Function 2 - your function to illustrate"
   ]
  },
  {
   "cell_type": "code",
   "execution_count": 6,
   "metadata": {},
   "outputs": [
    {
     "data": {
      "text/plain": [
       "(tensor([[0, 1],\n",
       "         [2, 3],\n",
       "         [4, 5],\n",
       "         [6, 7],\n",
       "         [8, 9]]),\n",
       " (tensor([[0, 1],\n",
       "          [2, 3]]),\n",
       "  tensor([[4, 5],\n",
       "          [6, 7]]),\n",
       "  tensor([[8, 9]])),\n",
       " (tensor([[0, 1],\n",
       "          [2, 3]]),\n",
       "  tensor([[4, 5],\n",
       "          [6, 7],\n",
       "          [8, 9]])))"
      ]
     },
     "execution_count": 6,
     "metadata": {},
     "output_type": "execute_result"
    }
   ],
   "source": [
    "# Example 1 - ### your explanation ###\n",
    "### your code ###\n",
    "#split\n",
    "a = torch.arange(10).reshape(5,2)\n",
    "a_1=torch.split(a,2)\n",
    "a_2=torch.split(a,[2,3])\n",
    "a,a_1,a_2"
   ]
  },
  {
   "cell_type": "code",
   "execution_count": 7,
   "metadata": {},
   "outputs": [
    {
     "data": {
      "text/plain": [
       "(tensor([[1, 2, 3],\n",
       "         [4, 5, 6]]),\n",
       " tensor([[1, 2, 3, 4, 5, 6]]),\n",
       " tensor([[4, 5, 6],\n",
       "         [1, 2, 3]]))"
      ]
     },
     "execution_count": 7,
     "metadata": {},
     "output_type": "execute_result"
    }
   ],
   "source": [
    "# Example 2 - ### your explanation ###\n",
    "### your code ###\n",
    "#cat()資料串接\n",
    "a=torch.tensor([[1,2,3]])\n",
    "b=torch.tensor([[4,5,6]])\n",
    "ab_0 = torch.cat((a,b),0)#0和1表示不同維度的拼接方法\n",
    "ab_1 = torch.cat((a,b),1)\n",
    "ba = torch.cat((b,a),0)\n",
    "ab_0,ab_1,ba"
   ]
  },
  {
   "cell_type": "markdown",
   "metadata": {},
   "source": [
    "### Function 3 - your function to illustrate"
   ]
  },
  {
   "cell_type": "code",
   "execution_count": 8,
   "metadata": {},
   "outputs": [
    {
     "data": {
      "text/plain": [
       "tensor([[1, 2, 3],\n",
       "        [3, 4, 5],\n",
       "        [5, 6, 7],\n",
       "        [7, 8, 9]])"
      ]
     },
     "execution_count": 8,
     "metadata": {},
     "output_type": "execute_result"
    }
   ],
   "source": [
    "# Example 1 - ### your explanation ###\n",
    "### your code ###\n",
    "#reshape()\n",
    "a=torch.tensor([[[1, 2, 3], [3, 4, 5]],[[5, 6, 7], [7, 8, 9]]])\n",
    "a_re = torch.reshape(a,(4,3))\n",
    "a_re"
   ]
  },
  {
   "cell_type": "code",
   "execution_count": 9,
   "metadata": {},
   "outputs": [
    {
     "name": "stdout",
     "output_type": "stream",
     "text": [
      "tensor([[1, 2, 3],\n",
      "        [3, 4, 5],\n",
      "        [5, 6, 7],\n",
      "        [7, 8, 9]])\n",
      "tensor([[1, 2, 3, 3, 4, 5],\n",
      "        [5, 6, 7, 7, 8, 9]])\n",
      "tensor([[1, 2, 3, 3, 4, 5, 5, 6, 7, 7, 8, 9]])\n"
     ]
    }
   ],
   "source": [
    "# Example 2 - ### your explanation ###\n",
    "### your code ###\n",
    "#view()\n",
    "a=torch.tensor([[[1, 2, 3], [3, 4, 5]],[[5, 6, 7], [7, 8, 9]]])\n",
    "print(a.view(4,3))\n",
    "print(a.view(2,6))\n",
    "print(a.view(1,12))"
   ]
  },
  {
   "cell_type": "markdown",
   "metadata": {},
   "source": [
    "### Function 4 - your function to illustrate"
   ]
  },
  {
   "cell_type": "code",
   "execution_count": 10,
   "metadata": {},
   "outputs": [
    {
     "data": {
      "text/plain": [
       "tensor([[[1, 2, 3]],\n",
       "\n",
       "        [[4, 5, 6]]])"
      ]
     },
     "execution_count": 10,
     "metadata": {},
     "output_type": "execute_result"
    }
   ],
   "source": [
    "# Example 1 - ### your explanation ###\n",
    "### your code ###\n",
    "#dstack()\n",
    "a=torch.tensor([[1,2,3]])\n",
    "b=torch.tensor([[4,5,6]])\n",
    "torch.stack((a,b))#增加新的維度進行堆疊"
   ]
  },
  {
   "cell_type": "code",
   "execution_count": 15,
   "metadata": {},
   "outputs": [
    {
     "data": {
      "text/plain": [
       "tensor([1, 3, 6])"
      ]
     },
     "execution_count": 15,
     "metadata": {},
     "output_type": "execute_result"
    }
   ],
   "source": [
    "# Example 2 - ### your explanation ###\n",
    "### your code ###\n",
    "#take()\n",
    "src = torch.tensor([[1,2,3],\n",
    "                    [4,5,6],[7,8,9]])\n",
    "#torch.take(src,torch.tensor([0,2,5]))\n",
    "src.take(torch.tensor([0,2,5]))"
   ]
  },
  {
   "cell_type": "code",
   "execution_count": null,
   "metadata": {},
   "outputs": [],
   "source": []
  }
 ],
 "metadata": {
  "kernelspec": {
   "display_name": "Python 3",
   "language": "python",
   "name": "python3"
  },
  "language_info": {
   "codemirror_mode": {
    "name": "ipython",
    "version": 3
   },
   "file_extension": ".py",
   "mimetype": "text/x-python",
   "name": "python",
   "nbconvert_exporter": "python",
   "pygments_lexer": "ipython3",
   "version": "3.7.3"
  }
 },
 "nbformat": 4,
 "nbformat_minor": 2
}

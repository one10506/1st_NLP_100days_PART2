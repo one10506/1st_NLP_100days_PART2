{
 "cells": [
  {
   "cell_type": "code",
   "execution_count": 1,
   "metadata": {
    "executionInfo": {
     "elapsed": 243,
     "status": "ok",
     "timestamp": 1622550620640,
     "user": {
      "displayName": "林榮葦",
      "photoUrl": "",
      "userId": "01268908748999597331"
     },
     "user_tz": -480
    },
    "id": "8RBvklxB_xCV"
   },
   "outputs": [],
   "source": [
    "import torch\n",
    "import torch.nn as nn\n",
    "import torchvision.models as models\n",
    "import torch.nn.functional as F\n",
    "import numpy as np\n",
    "import matplotlib.pyplot as plt\n",
    "import pandas as pd\n",
    "import os\n",
    "import glob\n",
    "import codecs\n",
    "import re\n",
    "\n",
    "from sklearn.model_selection import train_test_split\n",
    "from sklearn import metrics\n",
    "from sklearn.metrics import classification_report"
   ]
  },
  {
   "cell_type": "code",
   "execution_count": 2,
   "metadata": {
    "colab": {
     "base_uri": "https://localhost:8080/"
    },
    "executionInfo": {
     "elapsed": 296,
     "status": "ok",
     "timestamp": 1622550624190,
     "user": {
      "displayName": "林榮葦",
      "photoUrl": "",
      "userId": "01268908748999597331"
     },
     "user_tz": -480
    },
    "id": "byctTpXL_3tw",
    "outputId": "0264c68a-390b-4bc8-be9f-c76b37851f00"
   },
   "outputs": [
    {
     "data": {
      "text/plain": [
       "True"
      ]
     },
     "execution_count": 2,
     "metadata": {},
     "output_type": "execute_result"
    }
   ],
   "source": [
    "import torch\n",
    "torch.cuda.is_available()"
   ]
  },
  {
   "cell_type": "markdown",
   "metadata": {
    "id": "yLRMpzAF_xCY"
   },
   "source": [
    "## 資料準備 : 詳細介紹可參考NLP第一階段課程Day20,21"
   ]
  },
  {
   "cell_type": "code",
   "execution_count": 3,
   "metadata": {
    "colab": {
     "base_uri": "https://localhost:8080/",
     "height": 375
    },
    "executionInfo": {
     "elapsed": 28642,
     "status": "error",
     "timestamp": 1622551359537,
     "user": {
      "displayName": "林榮葦",
      "photoUrl": "",
      "userId": "01268908748999597331"
     },
     "user_tz": -480
    },
    "id": "moWXWyTb_xCY",
    "outputId": "549f4e86-3306-4791-8f2a-945503e27954"
   },
   "outputs": [
    {
     "data": {
      "text/plain": [
       "array([['[ILUG] Garden Ornaments | mvcmv', '1'],\n",
       "       ['Play a Hilarious Phone Prank', '1'],\n",
       "       ['[ILUG-Social] Poker for money againts real players', '1'],\n",
       "       ...,\n",
       "       ['CNET NEWS.COM: Jobs touts OS X, iPods, iMac', '0'],\n",
       "       ['New Sony Vaio: When small becomes TOO small [ANCHORDESK]', '0'],\n",
       "       ['Your Daily Dilbert 07/11/2002', '0']], dtype='<U109')"
      ]
     },
     "execution_count": 3,
     "metadata": {},
     "output_type": "execute_result"
    }
   ],
   "source": [
    "all_data=[]\n",
    "paths =[r'spam_data/spam', r'spam_data/easy_ham', r'spam_data/hard_ham'] \n",
    "for path in paths:\n",
    "    for fn in glob.glob(path+\"/*\"):\n",
    "        if \"ham\" not in fn:\n",
    "            is_spam = 1\n",
    "        else:\n",
    "            is_spam = 0\n",
    "        #codecs.open可以避開錯誤，用errors='ignore'\n",
    "        with codecs.open(fn,encoding='utf-8', errors='ignore') as file:\n",
    "            for line in file:\n",
    "                #這個line的開頭為Subject:\n",
    "                if line.startswith(\"Subject:\"):\n",
    "                    subject=re.sub(r\"^Subject:\",\"\",line).strip()\n",
    "                    all_data.append([subject,is_spam])\n",
    "all_data = np.array(all_data)\n",
    "all_data"
   ]
  },
  {
   "cell_type": "code",
   "execution_count": 4,
   "metadata": {
    "id": "YqIHMPiY_xCZ"
   },
   "outputs": [],
   "source": [
    "X = all_data[:,0]\n",
    "Y = all_data[:,1].astype(np.uint8)"
   ]
  },
  {
   "cell_type": "code",
   "execution_count": 5,
   "metadata": {
    "id": "myyyYQwR_xCZ",
    "outputId": "065ca45d-a15c-4e4f-b523-f6053851ebbe"
   },
   "outputs": [
    {
     "name": "stderr",
     "output_type": "stream",
     "text": [
      "[nltk_data] Downloading package stopwords to /home/ckchen/nltk_data...\n",
      "[nltk_data]   Package stopwords is already up-to-date!\n"
     ]
    }
   ],
   "source": [
    "from sklearn.metrics import confusion_matrix\n",
    "from nltk.corpus import stopwords\n",
    "\n",
    "import nltk\n",
    "\n",
    "nltk.download('stopwords')\n",
    "\n",
    "# Lemmatize with POS Tag\n",
    "from nltk.corpus import wordnet\n",
    "from nltk.stem import WordNetLemmatizer \n",
    "\n",
    "## 創建Lemmatizer\n",
    "lemmatizer = WordNetLemmatizer() \n",
    "def get_wordnet_pos(word):\n",
    "    \"\"\"將pos_tag結果mapping到lemmatizer中pos的格式\"\"\"\n",
    "    tag = nltk.pos_tag([word])[0][1][0].upper()\n",
    "    tag_dict = {\"J\": wordnet.ADJ,\n",
    "                \"N\": wordnet.NOUN,\n",
    "                \"V\": wordnet.VERB,\n",
    "                \"R\": wordnet.ADV}\n",
    "\n",
    "    return tag_dict.get(tag, wordnet.NOUN)\n",
    "\n",
    "\n",
    "def clean_content(X):\n",
    "    # remove non-alphabet characters\n",
    "    X_clean = [re.sub('[^a-zA-Z]',' ', x).lower() for x in X]\n",
    "    # tokenize\n",
    "    X_word_tokenize = [nltk.word_tokenize(x) for x in X_clean]\n",
    "    # stopwords_lemmatizer\n",
    "    X_stopwords_lemmatizer = []\n",
    "    stop_words = set(stopwords.words('english'))\n",
    "    for content in X_word_tokenize:\n",
    "        content_clean = []\n",
    "        for word in content:\n",
    "            if word not in stop_words:\n",
    "                word = lemmatizer.lemmatize(word, get_wordnet_pos(word))\n",
    "                content_clean.append(word)\n",
    "        X_stopwords_lemmatizer.append(content_clean)\n",
    "    \n",
    "    X_output = [' '.join(x) for x in X_stopwords_lemmatizer]\n",
    "    \n",
    "    return X_output\n",
    "                 "
   ]
  },
  {
   "cell_type": "code",
   "execution_count": 6,
   "metadata": {
    "id": "4N6RRCmo_xCa"
   },
   "outputs": [],
   "source": [
    "X = clean_content(X)"
   ]
  },
  {
   "cell_type": "code",
   "execution_count": 7,
   "metadata": {
    "id": "7KLG-hLR_xCa"
   },
   "outputs": [],
   "source": [
    "from sklearn.feature_extraction.text import CountVectorizer\n",
    "#max_features是要建造幾個column，會按造字出現的頻率高低去篩選，1500並沒有特別含義，大家可以自己嘗試不同數值或不加入限制\n",
    "cv=CountVectorizer(max_features = 1500)\n",
    "X=cv.fit_transform(X).toarray()"
   ]
  },
  {
   "cell_type": "code",
   "execution_count": 8,
   "metadata": {
    "id": "LHO72tax_xCb"
   },
   "outputs": [],
   "source": [
    "from sklearn.model_selection import train_test_split\n",
    "# random_state是為了讓各為學員得到相同的結果，平時可以移除\n",
    "x_train, x_test, y_train, y_test = train_test_split(X, Y, test_size = 0.2, random_state = 0)"
   ]
  },
  {
   "cell_type": "code",
   "execution_count": 9,
   "metadata": {
    "id": "URcamW9t_xCb",
    "outputId": "22a5cdd5-2c4d-4992-ae40-1f457f287759"
   },
   "outputs": [
    {
     "data": {
      "text/plain": [
       "(2738, 1500)"
      ]
     },
     "execution_count": 9,
     "metadata": {},
     "output_type": "execute_result"
    }
   ],
   "source": [
    "x_train.shape"
   ]
  },
  {
   "cell_type": "code",
   "execution_count": 10,
   "metadata": {
    "id": "uhA-JLa4_xCb",
    "outputId": "9491d04d-4490-494c-a556-f7f864b9db51"
   },
   "outputs": [
    {
     "data": {
      "text/plain": [
       "array([0, 1], dtype=uint8)"
      ]
     },
     "execution_count": 10,
     "metadata": {},
     "output_type": "execute_result"
    }
   ],
   "source": [
    "np.unique(y_train)"
   ]
  },
  {
   "cell_type": "markdown",
   "metadata": {
    "id": "H5Bf_Rp6_xCc"
   },
   "source": [
    "### 判斷是否有GPU可以使用"
   ]
  },
  {
   "cell_type": "code",
   "execution_count": 11,
   "metadata": {
    "id": "vAZmJ-9W_xCc"
   },
   "outputs": [
    {
     "data": {
      "text/plain": [
       "'cuda'"
      ]
     },
     "execution_count": 11,
     "metadata": {},
     "output_type": "execute_result"
    }
   ],
   "source": [
    "device = 'cuda' if torch.cuda.is_available() else 'cpu'\n",
    "device"
   ]
  },
  {
   "cell_type": "markdown",
   "metadata": {
    "id": "t-h4qB7y_xCd"
   },
   "source": [
    "### 模型搭建"
   ]
  },
  {
   "cell_type": "code",
   "execution_count": 12,
   "metadata": {
    "id": "kiUB9qGc_xCd"
   },
   "outputs": [],
   "source": [
    "class LinearBNAC(nn.Module):\n",
    "    def __init__(self, in_channels, out_channels, bias=True, dropout=0.3, is_output=False):\n",
    "        super(LinearBNAC, self).__init__()\n",
    "        if is_output:\n",
    "            self.linear = nn.Linear(in_channels, out_channels, bias=bias)\n",
    "        else:\n",
    "            self.linear = nn.Sequential(\n",
    "                nn.Linear(in_channels, out_channels, bias=bias),\n",
    "                nn.BatchNorm1d(out_channels),\n",
    "                nn.LeakyReLU(inplace=True),\n",
    "                nn.Dropout(dropout),\n",
    "            )\n",
    "            \n",
    "    def forward(self, x):\n",
    "        out=self.linear(x)\n",
    "        return out"
   ]
  },
  {
   "cell_type": "code",
   "execution_count": 13,
   "metadata": {
    "id": "G5az6KRZ_xCd"
   },
   "outputs": [],
   "source": [
    "class Model(nn.Module):\n",
    "    def __init__(self, input_dimention, output_classes=1):\n",
    "        super(Model, self).__init__()\n",
    "        self.layer1 = LinearBNAC(input_dimention, 16)\n",
    "        self.layer2 = LinearBNAC(16, 32)\n",
    "        self.output = LinearBNAC(32, output_classes, is_output=True)\n",
    "    def forward(self, x):\n",
    "        x = self.layer1(x)\n",
    "        x = self.layer2(x)\n",
    "        x = self.output(x)\n",
    "        return x  \n",
    "        "
   ]
  },
  {
   "cell_type": "markdown",
   "metadata": {
    "id": "a6cs3eLh_xCe"
   },
   "source": [
    "### 建立模型"
   ]
  },
  {
   "cell_type": "markdown",
   "metadata": {
    "id": "HjvvjzVM_xCe"
   },
   "source": [
    "* to(device) 代表轉成 cpu or gpu 模式 (gpu 模式下稱為 cuda)"
   ]
  },
  {
   "cell_type": "code",
   "execution_count": 14,
   "metadata": {
    "id": "61xvYTRS_xCe"
   },
   "outputs": [],
   "source": [
    "model = Model(input_dimention=1500,output_classes=2).to(device)"
   ]
  },
  {
   "cell_type": "code",
   "execution_count": 15,
   "metadata": {
    "id": "SNtZ1BZJ_xCf",
    "outputId": "ac423889-b45b-4d8d-f042-36562c3edac3"
   },
   "outputs": [
    {
     "name": "stdout",
     "output_type": "stream",
     "text": [
      "layer1.linear.0.weight torch.Size([16, 1500])\n",
      "layer1.linear.0.bias torch.Size([16])\n",
      "layer1.linear.1.weight torch.Size([16])\n",
      "layer1.linear.1.bias torch.Size([16])\n",
      "layer2.linear.0.weight torch.Size([32, 16])\n",
      "layer2.linear.0.bias torch.Size([32])\n",
      "layer2.linear.1.weight torch.Size([32])\n",
      "layer2.linear.1.bias torch.Size([32])\n",
      "output.linear.weight torch.Size([2, 32])\n",
      "output.linear.bias torch.Size([2])\n"
     ]
    }
   ],
   "source": [
    "for name,_ in model.named_parameters():\n",
    "    print(name, _.shape)"
   ]
  },
  {
   "cell_type": "code",
   "execution_count": 16,
   "metadata": {
    "id": "zzd6MgWS_xCf"
   },
   "outputs": [],
   "source": [
    "batch_size = 4\n",
    "input_features = 1500#要和input_dimention一樣\n",
    "dummy_input = torch.randn(batch_size, input_features).to(device)\n"
   ]
  },
  {
   "cell_type": "code",
   "execution_count": 17,
   "metadata": {
    "id": "H0WevU06_xCf",
    "outputId": "1043f515-ca8e-44f3-dd34-b5927dcfb102"
   },
   "outputs": [
    {
     "name": "stdout",
     "output_type": "stream",
     "text": [
      "tensor([[-0.5339, -0.1745],\n",
      "        [-0.1870,  0.5267],\n",
      "        [-0.1977, -0.1708],\n",
      "        [ 0.3251, -0.6613]], device='cuda:0', grad_fn=<AddmmBackward>)\n"
     ]
    }
   ],
   "source": [
    "output = model(dummy_input)\n",
    "print(output)"
   ]
  },
  {
   "cell_type": "markdown",
   "metadata": {
    "id": "9upY52ip_xCg"
   },
   "source": [
    "## Loss"
   ]
  },
  {
   "cell_type": "markdown",
   "metadata": {
    "id": "TfR-AxM1_xCg"
   },
   "source": [
    "#### classification"
   ]
  },
  {
   "cell_type": "code",
   "execution_count": 18,
   "metadata": {
    "id": "pClDdVjT_xCg"
   },
   "outputs": [],
   "source": [
    "from torch.nn import NLLLoss, LogSoftmax, CrossEntropyLoss"
   ]
  },
  {
   "cell_type": "code",
   "execution_count": 19,
   "metadata": {
    "id": "Mb8UPxTT_xCh"
   },
   "outputs": [],
   "source": [
    "## CrossEntropyLoss = LogSoftmax + NLLLoss"
   ]
  },
  {
   "cell_type": "markdown",
   "metadata": {
    "id": "Gj24SK11_xCh"
   },
   "source": [
    "* CrossEntropyLoss"
   ]
  },
  {
   "cell_type": "code",
   "execution_count": 20,
   "metadata": {
    "id": "KZgJvc9s_xCh"
   },
   "outputs": [],
   "source": [
    "criterion = CrossEntropyLoss()"
   ]
  },
  {
   "cell_type": "markdown",
   "metadata": {
    "id": "idbVoQ_O_xCi"
   },
   "source": [
    "## optimizer"
   ]
  },
  {
   "cell_type": "code",
   "execution_count": 21,
   "metadata": {
    "id": "3dyesUPG_xCi"
   },
   "outputs": [],
   "source": [
    "import torch.optim as optim"
   ]
  },
  {
   "cell_type": "markdown",
   "metadata": {
    "id": "vpaUGqed_xCi"
   },
   "source": [
    "* params : iterable of parameters\n",
    "* lr : learning rate\n",
    "* weight_decay : (L2) Regularization (正則化) "
   ]
  },
  {
   "cell_type": "code",
   "execution_count": 22,
   "metadata": {
    "id": "g_JNuBw__xCi"
   },
   "outputs": [],
   "source": [
    "optimizer = optim.Adam(params=model.parameters(), lr=1e-3)"
   ]
  },
  {
   "cell_type": "markdown",
   "metadata": {
    "id": "xlJdEgAp_xCj"
   },
   "source": [
    "### 訓練前準備"
   ]
  },
  {
   "cell_type": "code",
   "execution_count": 23,
   "metadata": {
    "id": "TJLUEHQU_xCk"
   },
   "outputs": [],
   "source": [
    "x_train = torch.tensor(x_train, dtype=torch.float32).to(device)\n",
    "x_test = torch.tensor(x_test, dtype=torch.float32).to(device)\n",
    "\n",
    "y_train_numpy = y_train.copy()\n",
    "y_test_numpy = y_test.copy()\n",
    "\n",
    "y_train = torch.tensor(y_train, dtype=torch.long).to(device)\n",
    "y_test = torch.tensor(y_test, dtype=torch.long).to(device)"
   ]
  },
  {
   "cell_type": "code",
   "execution_count": 24,
   "metadata": {
    "id": "8hV4oUzV_xCl"
   },
   "outputs": [],
   "source": [
    "batch_size = 4\n",
    "epochs = 50\n",
    "softmax = nn.Softmax(-1)\n",
    "\n",
    "index = np.array([x for x in range(len(x_train))])"
   ]
  },
  {
   "cell_type": "markdown",
   "metadata": {
    "id": "lTlBocea_xCm"
   },
   "source": [
    "### 訓練"
   ]
  },
  {
   "cell_type": "code",
   "execution_count": 25,
   "metadata": {},
   "outputs": [],
   "source": [
    "from tqdm import tqdm "
   ]
  },
  {
   "cell_type": "code",
   "execution_count": 26,
   "metadata": {
    "id": "K9FZQjOH_xCn",
    "outputId": "9881d735-01ac-48c0-a4e8-0745c0157bbb"
   },
   "outputs": [
    {
     "name": "stderr",
     "output_type": "stream",
     "text": [
      "  2%|▏         | 1/50 [00:01<00:53,  1.09s/it]"
     ]
    },
    {
     "name": "stdout",
     "output_type": "stream",
     "text": [
      "epoch : 0\n",
      "目前 train loss : 0.43\n",
      "目前 test loss : 0.35\n",
      "目前 test accuracy : 0.86\n"
     ]
    },
    {
     "name": "stderr",
     "output_type": "stream",
     "text": [
      "  6%|▌         | 3/50 [00:03<00:51,  1.09s/it]"
     ]
    },
    {
     "name": "stdout",
     "output_type": "stream",
     "text": [
      "epoch : 2\n",
      "目前 train loss : 0.32\n",
      "目前 test loss : 0.26\n",
      "目前 test accuracy : 0.91\n"
     ]
    },
    {
     "name": "stderr",
     "output_type": "stream",
     "text": [
      " 10%|█         | 5/50 [00:05<00:49,  1.10s/it]"
     ]
    },
    {
     "name": "stdout",
     "output_type": "stream",
     "text": [
      "epoch : 4\n",
      "目前 train loss : 0.26\n",
      "目前 test loss : 0.22\n",
      "目前 test accuracy : 0.92\n"
     ]
    },
    {
     "name": "stderr",
     "output_type": "stream",
     "text": [
      " 14%|█▍        | 7/50 [00:07<00:47,  1.10s/it]"
     ]
    },
    {
     "name": "stdout",
     "output_type": "stream",
     "text": [
      "epoch : 6\n",
      "目前 train loss : 0.24\n",
      "目前 test loss : 0.20\n",
      "目前 test accuracy : 0.92\n"
     ]
    },
    {
     "name": "stderr",
     "output_type": "stream",
     "text": [
      " 18%|█▊        | 9/50 [00:09<00:44,  1.09s/it]"
     ]
    },
    {
     "name": "stdout",
     "output_type": "stream",
     "text": [
      "epoch : 8\n",
      "目前 train loss : 0.24\n",
      "目前 test loss : 0.22\n",
      "目前 test accuracy : 0.92\n"
     ]
    },
    {
     "name": "stderr",
     "output_type": "stream",
     "text": [
      " 22%|██▏       | 11/50 [00:11<00:42,  1.08s/it]"
     ]
    },
    {
     "name": "stdout",
     "output_type": "stream",
     "text": [
      "epoch : 10\n",
      "目前 train loss : 0.20\n",
      "目前 test loss : 0.22\n",
      "目前 test accuracy : 0.92\n"
     ]
    },
    {
     "name": "stderr",
     "output_type": "stream",
     "text": [
      " 26%|██▌       | 13/50 [00:14<00:39,  1.08s/it]"
     ]
    },
    {
     "name": "stdout",
     "output_type": "stream",
     "text": [
      "epoch : 12\n",
      "目前 train loss : 0.19\n",
      "目前 test loss : 0.24\n",
      "目前 test accuracy : 0.91\n"
     ]
    },
    {
     "name": "stderr",
     "output_type": "stream",
     "text": [
      " 30%|███       | 15/50 [00:16<00:37,  1.07s/it]"
     ]
    },
    {
     "name": "stdout",
     "output_type": "stream",
     "text": [
      "epoch : 14\n",
      "目前 train loss : 0.20\n",
      "目前 test loss : 0.20\n",
      "目前 test accuracy : 0.92\n"
     ]
    },
    {
     "name": "stderr",
     "output_type": "stream",
     "text": [
      " 34%|███▍      | 17/50 [00:18<00:35,  1.07s/it]"
     ]
    },
    {
     "name": "stdout",
     "output_type": "stream",
     "text": [
      "epoch : 16\n",
      "目前 train loss : 0.20\n",
      "目前 test loss : 0.21\n",
      "目前 test accuracy : 0.92\n"
     ]
    },
    {
     "name": "stderr",
     "output_type": "stream",
     "text": [
      " 38%|███▊      | 19/50 [00:20<00:33,  1.08s/it]"
     ]
    },
    {
     "name": "stdout",
     "output_type": "stream",
     "text": [
      "epoch : 18\n",
      "目前 train loss : 0.20\n",
      "目前 test loss : 0.20\n",
      "目前 test accuracy : 0.92\n"
     ]
    },
    {
     "name": "stderr",
     "output_type": "stream",
     "text": [
      " 42%|████▏     | 21/50 [00:22<00:31,  1.08s/it]"
     ]
    },
    {
     "name": "stdout",
     "output_type": "stream",
     "text": [
      "epoch : 20\n",
      "目前 train loss : 0.19\n",
      "目前 test loss : 0.20\n",
      "目前 test accuracy : 0.92\n"
     ]
    },
    {
     "name": "stderr",
     "output_type": "stream",
     "text": [
      " 46%|████▌     | 23/50 [00:24<00:29,  1.08s/it]"
     ]
    },
    {
     "name": "stdout",
     "output_type": "stream",
     "text": [
      "epoch : 22\n",
      "目前 train loss : 0.18\n",
      "目前 test loss : 0.19\n",
      "目前 test accuracy : 0.93\n"
     ]
    },
    {
     "name": "stderr",
     "output_type": "stream",
     "text": [
      " 50%|█████     | 25/50 [00:27<00:26,  1.08s/it]"
     ]
    },
    {
     "name": "stdout",
     "output_type": "stream",
     "text": [
      "epoch : 24\n",
      "目前 train loss : 0.16\n",
      "目前 test loss : 0.27\n",
      "目前 test accuracy : 0.91\n"
     ]
    },
    {
     "name": "stderr",
     "output_type": "stream",
     "text": [
      " 54%|█████▍    | 27/50 [00:29<00:24,  1.08s/it]"
     ]
    },
    {
     "name": "stdout",
     "output_type": "stream",
     "text": [
      "epoch : 26\n",
      "目前 train loss : 0.18\n",
      "目前 test loss : 0.20\n",
      "目前 test accuracy : 0.92\n"
     ]
    },
    {
     "name": "stderr",
     "output_type": "stream",
     "text": [
      " 58%|█████▊    | 29/50 [00:31<00:22,  1.09s/it]"
     ]
    },
    {
     "name": "stdout",
     "output_type": "stream",
     "text": [
      "epoch : 28\n",
      "目前 train loss : 0.17\n",
      "目前 test loss : 0.22\n",
      "目前 test accuracy : 0.92\n"
     ]
    },
    {
     "name": "stderr",
     "output_type": "stream",
     "text": [
      " 62%|██████▏   | 31/50 [00:33<00:20,  1.10s/it]"
     ]
    },
    {
     "name": "stdout",
     "output_type": "stream",
     "text": [
      "epoch : 30\n",
      "目前 train loss : 0.17\n",
      "目前 test loss : 0.20\n",
      "目前 test accuracy : 0.92\n"
     ]
    },
    {
     "name": "stderr",
     "output_type": "stream",
     "text": [
      " 66%|██████▌   | 33/50 [00:35<00:18,  1.10s/it]"
     ]
    },
    {
     "name": "stdout",
     "output_type": "stream",
     "text": [
      "epoch : 32\n",
      "目前 train loss : 0.17\n",
      "目前 test loss : 0.22\n",
      "目前 test accuracy : 0.92\n"
     ]
    },
    {
     "name": "stderr",
     "output_type": "stream",
     "text": [
      " 70%|███████   | 35/50 [00:38<00:16,  1.10s/it]"
     ]
    },
    {
     "name": "stdout",
     "output_type": "stream",
     "text": [
      "epoch : 34\n",
      "目前 train loss : 0.14\n",
      "目前 test loss : 0.21\n",
      "目前 test accuracy : 0.92\n"
     ]
    },
    {
     "name": "stderr",
     "output_type": "stream",
     "text": [
      " 74%|███████▍  | 37/50 [00:40<00:14,  1.10s/it]"
     ]
    },
    {
     "name": "stdout",
     "output_type": "stream",
     "text": [
      "epoch : 36\n",
      "目前 train loss : 0.16\n",
      "目前 test loss : 0.25\n",
      "目前 test accuracy : 0.92\n"
     ]
    },
    {
     "name": "stderr",
     "output_type": "stream",
     "text": [
      " 78%|███████▊  | 39/50 [00:42<00:12,  1.11s/it]"
     ]
    },
    {
     "name": "stdout",
     "output_type": "stream",
     "text": [
      "epoch : 38\n",
      "目前 train loss : 0.16\n",
      "目前 test loss : 0.21\n",
      "目前 test accuracy : 0.92\n"
     ]
    },
    {
     "name": "stderr",
     "output_type": "stream",
     "text": [
      " 82%|████████▏ | 41/50 [00:44<00:09,  1.10s/it]"
     ]
    },
    {
     "name": "stdout",
     "output_type": "stream",
     "text": [
      "epoch : 40\n",
      "目前 train loss : 0.15\n",
      "目前 test loss : 0.23\n",
      "目前 test accuracy : 0.92\n"
     ]
    },
    {
     "name": "stderr",
     "output_type": "stream",
     "text": [
      " 86%|████████▌ | 43/50 [00:46<00:07,  1.09s/it]"
     ]
    },
    {
     "name": "stdout",
     "output_type": "stream",
     "text": [
      "epoch : 42\n",
      "目前 train loss : 0.16\n",
      "目前 test loss : 0.21\n",
      "目前 test accuracy : 0.92\n"
     ]
    },
    {
     "name": "stderr",
     "output_type": "stream",
     "text": [
      " 90%|█████████ | 45/50 [00:49<00:05,  1.09s/it]"
     ]
    },
    {
     "name": "stdout",
     "output_type": "stream",
     "text": [
      "epoch : 44\n",
      "目前 train loss : 0.16\n",
      "目前 test loss : 0.22\n",
      "目前 test accuracy : 0.92\n"
     ]
    },
    {
     "name": "stderr",
     "output_type": "stream",
     "text": [
      " 94%|█████████▍| 47/50 [00:51<00:03,  1.09s/it]"
     ]
    },
    {
     "name": "stdout",
     "output_type": "stream",
     "text": [
      "epoch : 46\n",
      "目前 train loss : 0.14\n",
      "目前 test loss : 0.23\n",
      "目前 test accuracy : 0.92\n"
     ]
    },
    {
     "name": "stderr",
     "output_type": "stream",
     "text": [
      " 98%|█████████▊| 49/50 [00:53<00:01,  1.08s/it]"
     ]
    },
    {
     "name": "stdout",
     "output_type": "stream",
     "text": [
      "epoch : 48\n",
      "目前 train loss : 0.15\n",
      "目前 test loss : 0.25\n",
      "目前 test accuracy : 0.91\n"
     ]
    },
    {
     "name": "stderr",
     "output_type": "stream",
     "text": [
      "100%|██████████| 50/50 [00:54<00:00,  1.09s/it]\n"
     ]
    }
   ],
   "source": [
    "train_loss_ = []\n",
    "test_loss_ = []\n",
    "train_accuracy_ = []\n",
    "test_accuracy_ = []\n",
    "for epoch in tqdm(range(epochs)):\n",
    "    \n",
    "    np.random.shuffle(index)\n",
    "    x_train = x_train[index]\n",
    "    y_train = y_train[index]\n",
    "\n",
    "    loss_keeper = []\n",
    "    model.train()\n",
    "    \n",
    "    for batch in range(len(x_train)//batch_size):\n",
    "        x = x_train[batch*batch_size : (batch+1)*batch_size,:]\n",
    "        y = y_train[batch*batch_size : (batch+1)*batch_size]\n",
    "        output = model(x)\n",
    "        loss_train = criterion(output, y)\n",
    "        loss_train.backward()\n",
    "        optimizer.step()\n",
    "        optimizer.zero_grad()\n",
    "        \n",
    "        loss_train = loss_train.detach().cpu().item()\n",
    "        loss_keeper.append(loss_train)    \n",
    "    \n",
    "    model.eval()\n",
    "    output = model(x_test)\n",
    "    prediction = softmax(output)\n",
    "    prediction = torch.argmax(prediction,1).detach().cpu().numpy()\n",
    "    test_accuracy = metrics.accuracy_score(prediction, y_test_numpy)\n",
    "    loss_test = criterion(output, y_test)\n",
    "    loss_test = loss_test.detach().cpu().item()\n",
    "    train_loss_.append(np.mean(loss_keeper))\n",
    "    test_loss_.append(loss_test)\n",
    "    \n",
    "    if epoch % 2 == 0:\n",
    "        print('epoch : {}'.format(epoch))\n",
    "        print('目前 train loss : {:.2f}'.format(np.mean(loss_keeper)))\n",
    "        print('目前 test loss : {:.2f}'.format(loss_test))\n",
    "        print('目前 test accuracy : {:.2f}'.format(test_accuracy))\n"
   ]
  },
  {
   "cell_type": "code",
   "execution_count": 27,
   "metadata": {
    "id": "112uZPwy_xCo",
    "outputId": "39e21bd6-49d9-40ef-e907-b48e11830584"
   },
   "outputs": [
    {
     "name": "stdout",
     "output_type": "stream",
     "text": [
      "              precision    recall  f1-score   support\n",
      "\n",
      "           0       0.94      0.95      0.95       576\n",
      "           1       0.73      0.66      0.70       109\n",
      "\n",
      "    accuracy                           0.91       685\n",
      "   macro avg       0.84      0.81      0.82       685\n",
      "weighted avg       0.90      0.91      0.91       685\n",
      "\n"
     ]
    }
   ],
   "source": [
    "print(classification_report(prediction,y_test_numpy))"
   ]
  },
  {
   "cell_type": "code",
   "execution_count": 28,
   "metadata": {
    "id": "F7zFhe2b_xCo",
    "outputId": "7caa3c2e-90b3-4719-ae9a-50b12933db45"
   },
   "outputs": [
    {
     "data": {
      "image/png": "[encoded data removed]",
      "text/plain": [
       "<Figure size 432x288 with 1 Axes>"
      ]
     },
     "metadata": {
      "needs_background": "light"
     },
     "output_type": "display_data"
    }
   ],
   "source": [
    "import matplotlib.pyplot as plt\n",
    "%matplotlib inline\n",
    "plt.plot(np.arange(1, len(test_loss_)+1), test_loss_)\n",
    "plt.show()"
   ]
  },
  {
   "cell_type": "code",
   "execution_count": 29,
   "metadata": {
    "id": "uzm8nqOO_xCo",
    "outputId": "10032106-0a5d-4ea6-b817-49e322e2fbed"
   },
   "outputs": [
    {
     "data": {
      "image/png": "[encoded data removed]",
      "text/plain": [
       "<Figure size 432x288 with 1 Axes>"
      ]
     },
     "metadata": {
      "needs_background": "light"
     },
     "output_type": "display_data"
    }
   ],
   "source": [
    "import matplotlib.pyplot as plt\n",
    "%matplotlib inline\n",
    "plt.plot(np.arange(1, len(train_loss_)+1), train_loss_)\n",
    "plt.show()"
   ]
  },
  {
   "cell_type": "markdown",
   "metadata": {
    "id": "AOlL9Q8W_xCp"
   },
   "source": [
    "---"
   ]
  },
  {
   "cell_type": "markdown",
   "metadata": {
    "id": "lZvKOxM__xCp"
   },
   "source": [
    "### 儲存跟載入 weight"
   ]
  },
  {
   "cell_type": "markdown",
   "metadata": {
    "id": "BqkZ6aDJ_xCq"
   },
   "source": [
    "### 儲存"
   ]
  },
  {
   "cell_type": "code",
   "execution_count": 30,
   "metadata": {
    "id": "FOTgpO98_xCq"
   },
   "outputs": [],
   "source": [
    "##假設我們已經訓練好了模型\n",
    "## 可以存成 .pth or .pt\n",
    "saving_location = './model_save.pth' # './' 代表目前所屬路徑\n",
    "torch.save(model.state_dict(), f=saving_location)"
   ]
  },
  {
   "cell_type": "markdown",
   "metadata": {
    "id": "bIbZAI_R_xCr"
   },
   "source": [
    "### 載入 "
   ]
  },
  {
   "cell_type": "code",
   "execution_count": 31,
   "metadata": {
    "id": "AJUgayK6_xCr",
    "outputId": "a2b9062b-1dfb-4ab6-dbc0-74acfcf36360"
   },
   "outputs": [
    {
     "name": "stdout",
     "output_type": "stream",
     "text": [
      "loading successfully...\n",
      "\n",
      "\n",
      "Is spam\n"
     ]
    }
   ],
   "source": [
    "model = Model(input_dimention=1500,output_classes=2).to(device)\n",
    "\n",
    "##載入\n",
    "checkpoint = torch.load(saving_location, map_location=lambda storage, loc: storage)\n",
    "model.load_state_dict(checkpoint)\n",
    "print('loading successfully...')\n",
    "print('\\n')\n",
    "\n",
    "model.eval()\n",
    "\n",
    "test_content = ['Congratulations! You Get a Free Handheld Organizer!']\n",
    "test_content = clean_content(test_content)\n",
    "test_content=cv.transform(test_content).toarray()\n",
    "test_content = torch.tensor(test_content, dtype=torch.float32).to(device)\n",
    "output = model(test_content)\n",
    "prediction = softmax(output)\n",
    "prediction = torch.argmax(prediction,1).detach().cpu().numpy()[0]\n",
    "\n",
    "if prediction == 1:\n",
    "    print('Is spam')\n",
    "else:\n",
    "    print('Not spam')"
   ]
  },
  {
   "cell_type": "code",
   "execution_count": null,
   "metadata": {},
   "outputs": [],
   "source": []
  }
 ],
 "metadata": {
  "accelerator": "GPU",
  "colab": {
   "name": "Day_10作業.ipynb",
   "provenance": [],
   "toc_visible": true
  },
  "kernelspec": {
   "display_name": "Python 3",
   "language": "python",
   "name": "python3"
  },
  "language_info": {
   "codemirror_mode": {
    "name": "ipython",
    "version": 3
   },
   "file_extension": ".py",
   "mimetype": "text/x-python",
   "name": "python",
   "nbconvert_exporter": "python",
   "pygments_lexer": "ipython3",
   "version": "3.7.6"
  }
 },
 "nbformat": 4,
 "nbformat_minor": 1
}

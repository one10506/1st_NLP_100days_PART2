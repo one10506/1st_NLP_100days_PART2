{
 "cells": [
  {
   "cell_type": "code",
   "execution_count": 1,
   "metadata": {},
   "outputs": [],
   "source": [
    "import torch\n",
    "import torch.nn as nn\n",
    "import torchvision.models as models\n",
    "import torch.nn.functional as F\n",
    "import numpy as np"
   ]
  },
  {
   "cell_type": "markdown",
   "metadata": {},
   "source": [
    "## 依照指示取出模型特定層的資訊"
   ]
  },
  {
   "cell_type": "code",
   "execution_count": 2,
   "metadata": {},
   "outputs": [],
   "source": [
    "# Define model\n",
    "class TheModelClass(nn.Module):\n",
    "    def __init__(self):\n",
    "        super(TheModelClass, self).__init__()\n",
    "        self.conv1 = nn.Conv2d(3, 6, 5)\n",
    "        self.pool = nn.MaxPool2d(2, 2)\n",
    "        self.conv2 = nn.Conv2d(6, 16, 5)\n",
    "        self.fc1 = nn.Linear(16* 5 * 5, 120)\n",
    "        self.fc2 = nn.Linear(120, 84)\n",
    "        self.fc3 = nn.Linear(84, 10)\n",
    "\n",
    "    def forward(self, x):\n",
    "        x = self.pool(F.relu(self.conv1(x)))\n",
    "        x = self.pool(F.relu(self.conv2(x)))\n",
    "        x = x.view(-1, 16 * 5 * 5)\n",
    "        x = F.relu(self.fc1(x))\n",
    "        x = F.relu(self.fc2(x))\n",
    "        x = self.fc3(x)\n",
    "        return x\n",
    "\n",
    "# Initialize model\n",
    "model = TheModelClass()\n"
   ]
  },
  {
   "cell_type": "code",
   "execution_count": 3,
   "metadata": {},
   "outputs": [
    {
     "data": {
      "text/plain": [
       "<bound method Module.children of TheModelClass(\n",
       "  (conv1): Conv2d(3, 6, kernel_size=(5, 5), stride=(1, 1))\n",
       "  (pool): MaxPool2d(kernel_size=2, stride=2, padding=0, dilation=1, ceil_mode=False)\n",
       "  (conv2): Conv2d(6, 16, kernel_size=(5, 5), stride=(1, 1))\n",
       "  (fc1): Linear(in_features=400, out_features=120, bias=True)\n",
       "  (fc2): Linear(in_features=120, out_features=84, bias=True)\n",
       "  (fc3): Linear(in_features=84, out_features=10, bias=True)\n",
       ")>"
      ]
     },
     "execution_count": 3,
     "metadata": {},
     "output_type": "execute_result"
    }
   ],
   "source": [
    "model.children"
   ]
  },
  {
   "cell_type": "code",
   "execution_count": 4,
   "metadata": {},
   "outputs": [
    {
     "name": "stdout",
     "output_type": "stream",
     "text": [
      "conv1\n",
      "pool\n",
      "conv2\n",
      "fc1\n",
      "fc2\n",
      "fc3\n"
     ]
    }
   ],
   "source": [
    "for name, _ in model.named_children():\n",
    "    print(name)"
   ]
  },
  {
   "cell_type": "markdown",
   "metadata": {},
   "source": [
    "### 取出 self.pool層兩次的輸出，包含：\n",
    "* x = self.pool(F.relu(self.conv1(x)))\n",
    "* x = self.pool(F.relu(self.conv2(x)))"
   ]
  },
  {
   "cell_type": "code",
   "execution_count": 5,
   "metadata": {},
   "outputs": [
    {
     "data": {
      "text/plain": [
       "<torch.utils.hooks.RemovableHandle at 0x7fbf2a2f6cf8>"
      ]
     },
     "execution_count": 5,
     "metadata": {},
     "output_type": "execute_result"
    }
   ],
   "source": [
    "outputs= []\n",
    "def layer1_hook(module, input_, output):\n",
    "    outputs.append(output)\n",
    "    \n",
    "model.pool.register_forward_hook(layer1_hook)"
   ]
  },
  {
   "cell_type": "code",
   "execution_count": 6,
   "metadata": {},
   "outputs": [],
   "source": [
    "input_ = torch.randn(1, 3, 32, 32)\n",
    "output = model(input_)"
   ]
  },
  {
   "cell_type": "code",
   "execution_count": 7,
   "metadata": {},
   "outputs": [
    {
     "data": {
      "text/plain": [
       "[tensor([[[[6.7872e-01, 3.8701e-01, 6.4865e-01,  ..., 4.7423e-01,\n",
       "            5.9514e-01, 1.4456e-01],\n",
       "           [1.0467e+00, 7.4821e-01, 2.7500e-01,  ..., 1.2104e-01,\n",
       "            1.1606e+00, 6.0902e-01],\n",
       "           [1.4532e+00, 5.3453e-01, 1.1349e+00,  ..., 8.3511e-02,\n",
       "            7.9103e-01, 4.6950e-01],\n",
       "           ...,\n",
       "           [8.0318e-01, 4.1324e-02, 9.0125e-01,  ..., 2.6319e-01,\n",
       "            7.5600e-01, 9.3452e-01],\n",
       "           [9.7012e-01, 3.7106e-01, 2.5472e-01,  ..., 3.5989e-01,\n",
       "            6.4281e-01, 0.0000e+00],\n",
       "           [5.6278e-01, 2.8423e-01, 8.9889e-01,  ..., 3.5510e-01,\n",
       "            1.2368e+00, 0.0000e+00]],\n",
       " \n",
       "          [[8.3596e-01, 1.0272e+00, 6.0102e-02,  ..., 5.2000e-01,\n",
       "            1.1595e+00, 3.0944e-01],\n",
       "           [9.3091e-01, 8.4790e-01, 1.2889e+00,  ..., 7.5508e-01,\n",
       "            5.3127e-01, 1.0889e+00],\n",
       "           [1.1445e+00, 6.8914e-01, 1.1049e+00,  ..., 0.0000e+00,\n",
       "            1.0112e+00, 7.7755e-01],\n",
       "           ...,\n",
       "           [3.9940e-01, 6.4249e-01, 6.2294e-01,  ..., 4.9145e-01,\n",
       "            1.0139e+00, 4.8766e-01],\n",
       "           [1.1809e+00, 1.2404e+00, 7.3307e-01,  ..., 9.5672e-01,\n",
       "            1.0478e+00, 3.2599e-01],\n",
       "           [6.7225e-01, 4.2318e-01, 1.1939e+00,  ..., 1.0330e+00,\n",
       "            2.9119e-01, 5.9312e-01]],\n",
       " \n",
       "          [[0.0000e+00, 7.6127e-01, 7.8353e-01,  ..., 4.6965e-01,\n",
       "            5.5940e-01, 6.7062e-01],\n",
       "           [8.5668e-01, 1.0654e-05, 8.8424e-01,  ..., 9.2369e-01,\n",
       "            4.2531e-01, 7.0046e-01],\n",
       "           [5.4655e-04, 0.0000e+00, 3.0108e-01,  ..., 3.4717e-01,\n",
       "            6.2933e-01, 2.1434e-01],\n",
       "           ...,\n",
       "           [1.2094e-01, 3.2019e-01, 2.5971e-01,  ..., 6.0209e-01,\n",
       "            6.2067e-01, 6.9079e-01],\n",
       "           [0.0000e+00, 4.0380e-01, 8.5902e-01,  ..., 3.1057e-01,\n",
       "            3.7084e-01, 5.8303e-01],\n",
       "           [0.0000e+00, 0.0000e+00, 7.2731e-01,  ..., 7.4723e-01,\n",
       "            0.0000e+00, 5.7853e-01]],\n",
       " \n",
       "          [[9.3714e-01, 1.5538e-01, 3.5021e-01,  ..., 7.9812e-01,\n",
       "            1.9125e+00, 8.9302e-01],\n",
       "           [9.1231e-01, 1.2065e+00, 7.4936e-01,  ..., 6.2733e-01,\n",
       "            5.5626e-01, 7.0639e-01],\n",
       "           [4.9643e-01, 1.1648e+00, 7.0397e-01,  ..., 8.0514e-01,\n",
       "            0.0000e+00, 3.8048e-01],\n",
       "           ...,\n",
       "           [2.5121e-01, 4.6179e-01, 2.9961e-01,  ..., 6.1636e-01,\n",
       "            2.6850e-01, 4.4673e-01],\n",
       "           [7.5237e-01, 9.7758e-01, 4.3477e-01,  ..., 2.7040e-01,\n",
       "            4.0797e-01, 6.5380e-01],\n",
       "           [8.4875e-02, 8.0302e-01, 4.3241e-01,  ..., 2.6169e-01,\n",
       "            6.7147e-01, 5.8825e-01]],\n",
       " \n",
       "          [[8.0234e-01, 7.6095e-01, 3.2315e-01,  ..., 7.0307e-01,\n",
       "            8.3865e-01, 5.6879e-01],\n",
       "           [2.2437e-01, 5.7816e-01, 4.9273e-01,  ..., 7.5293e-01,\n",
       "            3.5840e-01, 2.0040e-01],\n",
       "           [1.1706e+00, 1.0045e+00, 4.3110e-01,  ..., 4.2291e-02,\n",
       "            7.7711e-01, 0.0000e+00],\n",
       "           ...,\n",
       "           [3.9527e-01, 3.0865e-01, 3.2256e-01,  ..., 9.4590e-02,\n",
       "            6.5974e-01, 5.5988e-01],\n",
       "           [6.7715e-01, 4.5380e-01, 5.0979e-01,  ..., 7.3659e-01,\n",
       "            6.8809e-01, 6.6922e-01],\n",
       "           [3.0423e-01, 7.8449e-01, 1.2797e+00,  ..., 9.6444e-01,\n",
       "            8.0340e-01, 3.3202e-01]],\n",
       " \n",
       "          [[0.0000e+00, 3.3183e-01, 0.0000e+00,  ..., 3.5972e-01,\n",
       "            4.2916e-01, 8.1713e-01],\n",
       "           [3.9867e-01, 4.8816e-01, 3.9135e-01,  ..., 5.4624e-01,\n",
       "            1.0335e+00, 7.0232e-01],\n",
       "           [8.4742e-01, 8.5243e-02, 7.8527e-01,  ..., 4.4137e-01,\n",
       "            2.8198e-01, 9.2402e-01],\n",
       "           ...,\n",
       "           [8.0442e-01, 4.3580e-01, 4.3371e-01,  ..., 9.2094e-02,\n",
       "            5.6477e-01, 2.7725e-01],\n",
       "           [0.0000e+00, 5.0441e-01, 2.9651e-01,  ..., 4.6444e-01,\n",
       "            2.1214e-01, 8.6987e-01],\n",
       "           [7.7380e-01, 2.0234e-01, 5.7054e-01,  ..., 2.5809e-01,\n",
       "            3.6929e-02, 9.2486e-01]]]], grad_fn=<MaxPool2DWithIndicesBackward>),\n",
       " tensor([[[[0.4026, 0.3011, 0.1750, 0.2300, 0.5558],\n",
       "           [0.4808, 0.3216, 0.2762, 0.2799, 0.3373],\n",
       "           [0.4210, 0.1824, 0.2939, 0.2693, 0.0955],\n",
       "           [0.5913, 0.4303, 0.1606, 0.0817, 0.3366],\n",
       "           [0.5131, 0.2960, 0.6103, 0.1616, 0.1999]],\n",
       " \n",
       "          [[0.1303, 0.1042, 0.2439, 0.0000, 0.1113],\n",
       "           [0.2882, 0.1559, 0.2568, 0.2878, 0.1853],\n",
       "           [0.1167, 0.0000, 0.1249, 0.2341, 0.1518],\n",
       "           [0.2008, 0.1589, 0.0000, 0.0254, 0.0000],\n",
       "           [0.3123, 0.2462, 0.0196, 0.1398, 0.0918]],\n",
       " \n",
       "          [[0.1069, 0.0675, 0.1114, 0.0939, 0.0258],\n",
       "           [0.0973, 0.0000, 0.3599, 0.0374, 0.0484],\n",
       "           [0.2351, 0.1322, 0.4511, 0.2226, 0.2699],\n",
       "           [0.1524, 0.1121, 0.3106, 0.2167, 0.1072],\n",
       "           [0.0000, 0.1499, 0.2848, 0.0986, 0.0467]],\n",
       " \n",
       "          [[0.7794, 0.5636, 0.8167, 0.6065, 0.5799],\n",
       "           [0.5719, 0.4897, 0.6519, 0.6042, 0.6747],\n",
       "           [0.7017, 0.4683, 0.7697, 0.5315, 0.7197],\n",
       "           [0.6121, 0.5862, 0.4880, 0.6605, 0.6581],\n",
       "           [0.4996, 0.4808, 0.5534, 0.5308, 0.7425]],\n",
       " \n",
       "          [[0.2836, 0.2918, 0.2936, 0.2544, 0.2047],\n",
       "           [0.2930, 0.3556, 0.3380, 0.3011, 0.4100],\n",
       "           [0.0995, 0.0000, 0.2158, 0.0842, 0.0000],\n",
       "           [0.0958, 0.2129, 0.3090, 0.2529, 0.1943],\n",
       "           [0.6374, 0.3269, 0.0000, 0.1155, 0.4573]],\n",
       " \n",
       "          [[0.1650, 0.0000, 0.1781, 0.3256, 0.2232],\n",
       "           [0.4771, 0.1025, 0.2864, 0.2093, 0.0000],\n",
       "           [0.0840, 0.1478, 0.2146, 0.1650, 0.3705],\n",
       "           [0.3664, 0.2056, 0.0000, 0.0000, 0.0000],\n",
       "           [0.0938, 0.0484, 0.1184, 0.0000, 0.1965]],\n",
       " \n",
       "          [[0.0000, 0.2676, 0.3926, 0.0455, 0.3734],\n",
       "           [0.2866, 0.4427, 0.1895, 0.3107, 0.6591],\n",
       "           [0.6552, 0.1944, 0.5209, 0.5388, 0.2396],\n",
       "           [0.0999, 0.3135, 0.5136, 0.3541, 0.6401],\n",
       "           [0.2246, 0.4556, 0.2909, 0.4272, 0.2705]],\n",
       " \n",
       "          [[0.0000, 0.0000, 0.0000, 0.0000, 0.0000],\n",
       "           [0.0000, 0.0189, 0.0000, 0.0000, 0.0894],\n",
       "           [0.0000, 0.0000, 0.0000, 0.0000, 0.0000],\n",
       "           [0.0000, 0.0000, 0.0000, 0.0000, 0.0000],\n",
       "           [0.1547, 0.0000, 0.0000, 0.0000, 0.0000]],\n",
       " \n",
       "          [[0.0000, 0.0000, 0.0000, 0.0396, 0.0000],\n",
       "           [0.0000, 0.0000, 0.0000, 0.0000, 0.0000],\n",
       "           [0.0000, 0.0000, 0.0000, 0.1497, 0.0000],\n",
       "           [0.0000, 0.0000, 0.0619, 0.0438, 0.0000],\n",
       "           [0.0000, 0.0000, 0.0000, 0.0000, 0.0000]],\n",
       " \n",
       "          [[0.2174, 0.5754, 0.1672, 0.4412, 0.1907],\n",
       "           [0.2166, 0.2604, 0.4647, 0.1619, 0.3831],\n",
       "           [0.2467, 0.5261, 0.3127, 0.2858, 0.0959],\n",
       "           [0.0965, 0.3471, 0.4772, 0.1845, 0.3956],\n",
       "           [0.1717, 0.3363, 0.4460, 0.3269, 0.3403]],\n",
       " \n",
       "          [[0.0000, 0.0000, 0.0000, 0.0000, 0.0073],\n",
       "           [0.0000, 0.0072, 0.0000, 0.0000, 0.0000],\n",
       "           [0.0000, 0.0000, 0.0000, 0.0000, 0.0000],\n",
       "           [0.0000, 0.0185, 0.1001, 0.0000, 0.0000],\n",
       "           [0.0000, 0.0000, 0.0662, 0.0000, 0.0000]],\n",
       " \n",
       "          [[0.0000, 0.0782, 0.2358, 0.0000, 0.0371],\n",
       "           [0.1922, 0.0546, 0.2111, 0.2488, 0.0432],\n",
       "           [0.0000, 0.0859, 0.3831, 0.0639, 0.0795],\n",
       "           [0.0072, 0.0641, 0.1311, 0.1593, 0.0413],\n",
       "           [0.0000, 0.2895, 0.0533, 0.0279, 0.0000]],\n",
       " \n",
       "          [[0.4133, 0.5259, 0.3839, 0.7677, 0.3484],\n",
       "           [0.5384, 0.4423, 0.6130, 0.4652, 0.3432],\n",
       "           [0.5290, 0.4359, 0.4891, 0.8135, 0.4770],\n",
       "           [0.5886, 0.4805, 0.5390, 0.5599, 0.5950],\n",
       "           [0.4182, 0.4189, 0.6852, 0.6006, 0.5150]],\n",
       " \n",
       "          [[0.1200, 0.0000, 0.0817, 0.0000, 0.1848],\n",
       "           [0.0000, 0.0000, 0.0000, 0.2009, 0.0000],\n",
       "           [0.0000, 0.0000, 0.0000, 0.0000, 0.0000],\n",
       "           [0.0000, 0.0000, 0.0000, 0.0000, 0.0000],\n",
       "           [0.0000, 0.0000, 0.0000, 0.0000, 0.0014]],\n",
       " \n",
       "          [[0.1693, 0.5949, 0.5763, 0.3601, 0.4791],\n",
       "           [0.7433, 0.6664, 0.3923, 0.5604, 0.4209],\n",
       "           [0.3218, 0.6160, 0.5415, 0.5165, 0.5606],\n",
       "           [0.5834, 0.5798, 0.5672, 0.2122, 0.2894],\n",
       "           [0.2345, 0.3345, 0.6330, 0.5269, 0.4760]],\n",
       " \n",
       "          [[0.1673, 0.2057, 0.0000, 0.1257, 0.3170],\n",
       "           [0.1486, 0.0635, 0.2924, 0.3090, 0.2756],\n",
       "           [0.4172, 0.0000, 0.0000, 0.2888, 0.1191],\n",
       "           [0.1308, 0.1306, 0.2732, 0.3940, 0.2043],\n",
       "           [0.4191, 0.5305, 0.1549, 0.0000, 0.0243]]]],\n",
       "        grad_fn=<MaxPool2DWithIndicesBackward>)]"
      ]
     },
     "execution_count": 7,
     "metadata": {},
     "output_type": "execute_result"
    }
   ],
   "source": [
    "outputs"
   ]
  },
  {
   "cell_type": "code",
   "execution_count": 8,
   "metadata": {},
   "outputs": [
    {
     "name": "stdout",
     "output_type": "stream",
     "text": [
      "torch.Size([1, 6, 14, 14])\n",
      "torch.Size([1, 16, 5, 5])\n"
     ]
    }
   ],
   "source": [
    "print(outputs[0].shape)\n",
    "print(outputs[1].shape)"
   ]
  },
  {
   "cell_type": "markdown",
   "metadata": {},
   "source": [
    "## 加入自定義 initialization fuction"
   ]
  },
  {
   "cell_type": "markdown",
   "metadata": {},
   "source": [
    "#### 對所有Conv2D層使用自定義initialization function\n",
    "* weight : nn.init.kaiming_normal_\n",
    "* bias : 全部輸入1"
   ]
  },
  {
   "cell_type": "code",
   "execution_count": 9,
   "metadata": {},
   "outputs": [
    {
     "data": {
      "text/plain": [
       "TheModelClass(\n",
       "  (conv1): Conv2d(3, 6, kernel_size=(5, 5), stride=(1, 1))\n",
       "  (pool): MaxPool2d(kernel_size=2, stride=2, padding=0, dilation=1, ceil_mode=False)\n",
       "  (conv2): Conv2d(6, 16, kernel_size=(5, 5), stride=(1, 1))\n",
       "  (fc1): Linear(in_features=400, out_features=120, bias=True)\n",
       "  (fc2): Linear(in_features=120, out_features=84, bias=True)\n",
       "  (fc3): Linear(in_features=84, out_features=10, bias=True)\n",
       ")"
      ]
     },
     "execution_count": 9,
     "metadata": {},
     "output_type": "execute_result"
    }
   ],
   "source": [
    "from torch.nn import init\n",
    "\n",
    "def weights_init(m):\n",
    "    #classname = m.__class__.__name__\n",
    "    if isinstance(m, nn.Conv2d):\n",
    "        #torch.nn.init.xavier_uniform_(m.weight)\n",
    "        nn.init.kaiming_normal_(m.weight.data,\n",
    "                                    a=0,\n",
    "                                    mode='fan_out',\n",
    "                                    nonlinearity='relu')\n",
    "        if m.bias is not None:\n",
    "            torch.nn.init.ones_(m.bias)\n",
    "            \n",
    "model.apply(weights_init)"
   ]
  },
  {
   "cell_type": "markdown",
   "metadata": {},
   "source": [
    "#### 查看 conv層的bias是否皆為1"
   ]
  },
  {
   "cell_type": "code",
   "execution_count": 10,
   "metadata": {},
   "outputs": [
    {
     "name": "stdout",
     "output_type": "stream",
     "text": [
      "conv1.bias Parameter containing:\n",
      "tensor([1., 1., 1., 1., 1., 1.], requires_grad=True)\n",
      "\n",
      "\n",
      "conv2.bias Parameter containing:\n",
      "tensor([1., 1., 1., 1., 1., 1., 1., 1., 1., 1., 1., 1., 1., 1., 1., 1.],\n",
      "       requires_grad=True)\n",
      "\n",
      "\n"
     ]
    }
   ],
   "source": [
    "for name, parameters in model.named_parameters():\n",
    "    if ('conv' in name) and ('bias' in name):\n",
    "        print(name, parameters)\n",
    "        print('\\n')"
   ]
  },
  {
   "cell_type": "code",
   "execution_count": null,
   "metadata": {},
   "outputs": [],
   "source": []
  }
 ],
 "metadata": {
  "kernelspec": {
   "display_name": "Python 3",
   "language": "python",
   "name": "python3"
  },
  "language_info": {
   "codemirror_mode": {
    "name": "ipython",
    "version": 3
   },
   "file_extension": ".py",
   "mimetype": "text/x-python",
   "name": "python",
   "nbconvert_exporter": "python",
   "pygments_lexer": "ipython3",
   "version": "3.7.3"
  }
 },
 "nbformat": 4,
 "nbformat_minor": 2
}

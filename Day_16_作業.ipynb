{
 "cells": [
  {
   "cell_type": "markdown",
   "metadata": {},
   "source": [
    "# 作業 : 調整 word2vec 模型的不同訓練參數"
   ]
  },
  {
   "cell_type": "markdown",
   "metadata": {},
   "source": [
    "# [作業目標]\n",
    "- 調整 word2vec 模型的不同參數, 分別觀察效果並比較"
   ]
  },
  {
   "cell_type": "markdown",
   "metadata": {},
   "source": [
    "# [作業重點]\n",
    "- 調整 word2vec 模型的不同訓練參數, 分別觀察效果並比較"
   ]
  },
  {
   "cell_type": "code",
   "execution_count": 1,
   "metadata": {},
   "outputs": [
    {
     "name": "stderr",
     "output_type": "stream",
     "text": [
      "/Users/linrongwei/anaconda3/lib/python3.7/site-packages/gensim/similarities/__init__.py:15: UserWarning: The gensim.similarities.levenshtein submodule is disabled, because the optional Levenshtein package <https://pypi.org/project/python-Levenshtein/> is unavailable. Install Levenhstein (e.g. `pip install python-Levenshtein`) to suppress this warning.\n",
      "  warnings.warn(msg)\n"
     ]
    }
   ],
   "source": [
    "# 載入 gensim 與 word2vec 模型\n",
    "import gensim\n",
    "from gensim.models import word2vec\n",
    "\n",
    "# 忽略警告訊息\n",
    "import warnings\n",
    "warnings.filterwarnings(\"ignore\")"
   ]
  },
  {
   "cell_type": "markdown",
   "metadata": {},
   "source": [
    "# Word2Vec 訓練參數\n",
    "- size : 詞向量的維度\n",
    "- min_count : 最小次數，一個詞出現的次數若小於 min_count，則拋棄不參與訓練。\n",
    "- window : 訓練窗格大小，也就是一個詞在看上下文關係時，上下應該各看幾個字的意思。\n",
    "- 更多參數說明，請參閱官方文件\n",
    "https://radimrehurek.com/gensim/models/word2vec.html#gensim.models.word2vec.Text8Corpus"
   ]
  },
  {
   "cell_type": "code",
   "execution_count": 2,
   "metadata": {},
   "outputs": [],
   "source": [
    "# 使用 gensim 訓練 word2vec 詞向量\n",
    "sentences = word2vec.Text8Corpus('text8')\n",
    "#model = word2vec.Word2Vec(sentences, vector_size=10)\n",
    "#model = word2vec.Word2Vec(sentences, size=10, min_count=3, window=5)"
   ]
  },
  {
   "cell_type": "code",
   "execution_count": 3,
   "metadata": {},
   "outputs": [],
   "source": [
    "# 顯示最相近的字彙\n",
    "#model.wv.most_similar(['woman'])"
   ]
  },
  {
   "cell_type": "code",
   "execution_count": 4,
   "metadata": {},
   "outputs": [],
   "source": [
    "# 顯示最相近的字彙(附加反義詞)\n",
    "#model.wv.most_similar(positive=['woman', 'king'], negative=['man'], topn=5)"
   ]
  },
  {
   "cell_type": "code",
   "execution_count": 5,
   "metadata": {},
   "outputs": [],
   "source": [
    "# 挑選最不相同的字彙\n",
    "#model.wv.doesnt_match(\"breakfast cereal dinner lunch\".split())"
   ]
  },
  {
   "cell_type": "code",
   "execution_count": 6,
   "metadata": {},
   "outputs": [],
   "source": [
    "# 顯示字彙間的相似性\n",
    "#model.wv.similarity('woman', 'man')"
   ]
  },
  {
   "cell_type": "code",
   "execution_count": 7,
   "metadata": {},
   "outputs": [],
   "source": [
    "# 顯示字彙的詞向量\n",
    "#model.wv['computer']"
   ]
  },
  {
   "cell_type": "code",
   "execution_count": 8,
   "metadata": {},
   "outputs": [],
   "source": [
    "def monitor_gensim(sentences,vector_size=10,min_count=3,window=5):#vector_size詞維度,min_count\n",
    "    #window指訓練窗格大小，白話來說，一個詞在看上下文關係時，上下應該各看幾個字的意思。\n",
    "    #min_count指一個詞出現的次數若小於 min_count，則拋棄不參與訓練。\n",
    "    model = word2vec.Word2Vec(sentences,vector_size=10,min_count=3,window=5)\n",
    "    \n",
    "    print('顯示最相近的字彙:\\n',model.wv.most_similar(['woman']))\n",
    "    \n",
    "    print('顯示最相近的字彙(附加反義詞):\\n',model.wv.most_similar(positive=['woman', 'king'], negative=['man'], topn=5))\n",
    "    \n",
    "    print('顯示字彙間的相似性:(woman & man)\\n',model.wv.similarity('woman', 'man'))\n",
    "    \n",
    "    print('顯示字彙的詞向量',model.wv['computer'])"
   ]
  },
  {
   "cell_type": "code",
   "execution_count": 9,
   "metadata": {},
   "outputs": [
    {
     "name": "stdout",
     "output_type": "stream",
     "text": [
      "顯示最相近的字彙:\n",
      " [('walska', 0.9439395666122437), ('angry', 0.9436993598937988), ('told', 0.9351051449775696), ('loved', 0.9280834197998047), ('siblings', 0.9253576397895813), ('angels', 0.9217826128005981), ('dying', 0.9166070222854614), ('heard', 0.9157037734985352), ('husband', 0.9155775904655457), ('pregnant', 0.9142691493034363)]\n",
      "顯示最相近的字彙(附加反義詞):\n",
      " [('blatter', 0.9439234733581543), ('deposed', 0.9364061951637268), ('succeeded', 0.9229260683059692), ('hanazono', 0.9217163920402527), ('assassinated', 0.9204304814338684)]\n",
      "顯示字彙間的相似性:(woman & man)\n",
      " 0.80976826\n",
      "顯示字彙的詞向量 [ 2.7110956  -0.7447027  -2.516532    3.8918722   0.8263165   6.7791867\n",
      "  5.9118385  -2.2378783  -1.8894275  -0.03251034]\n"
     ]
    }
   ],
   "source": [
    "monitor_gensim(sentences,vector_size=5,min_count=3,window=5)"
   ]
  },
  {
   "cell_type": "code",
   "execution_count": 10,
   "metadata": {},
   "outputs": [
    {
     "name": "stdout",
     "output_type": "stream",
     "text": [
      "顯示最相近的字彙:\n",
      " [('told', 0.9460084438323975), ('angry', 0.9334761500358582), ('walska', 0.9323575496673584), ('loved', 0.9249007105827332), ('carcase', 0.9187164902687073), ('husband', 0.9184666275978088), ('siblings', 0.9122099876403809), ('marrying', 0.9120683073997498), ('insane', 0.9098865985870361), ('heard', 0.909838080406189)]\n",
      "顯示最相近的字彙(附加反義詞):\n",
      " [('succeeded', 0.9278349280357361), ('verres', 0.924830436706543), ('assassinated', 0.9216377139091492), ('blatter', 0.9202935695648193), ('deposed', 0.9192714691162109)]\n",
      "顯示字彙間的相似性:(woman & man)\n",
      " 0.83160317\n",
      "顯示字彙的詞向量 [ 1.5520418  -1.270169   -2.6723433   3.6337707   1.099597    7.0659018\n",
      "  6.230101   -1.8237188  -1.4069511  -0.32004148]\n"
     ]
    }
   ],
   "source": [
    "monitor_gensim(sentences,vector_size=10,min_count=3,window=5)"
   ]
  },
  {
   "cell_type": "code",
   "execution_count": 11,
   "metadata": {},
   "outputs": [
    {
     "name": "stdout",
     "output_type": "stream",
     "text": [
      "顯示最相近的字彙:\n",
      " [('angry', 0.9454929828643799), ('told', 0.9417637586593628), ('walska', 0.9375509023666382), ('siblings', 0.9353876709938049), ('loved', 0.9323815703392029), ('pregnant', 0.9258847832679749), ('husband', 0.9251481890678406), ('carcase', 0.916414737701416), ('dying', 0.9060789942741394), ('love', 0.9043943285942078)]\n",
      "顯示最相近的字彙(附加反義詞):\n",
      " [('deposed', 0.938904881477356), ('succeeded', 0.9340416193008423), ('overthrown', 0.9293094277381897), ('assassinated', 0.9277502298355103), ('schmalkald', 0.926359236240387)]\n",
      "顯示字彙間的相似性:(woman & man)\n",
      " 0.810789\n",
      "顯示字彙的詞向量 [ 2.601989   -0.7116348  -2.4744868   4.2287154   0.8878101   6.6631446\n",
      "  5.8284497  -2.4067802  -2.1873996   0.26928028]\n"
     ]
    }
   ],
   "source": [
    "monitor_gensim(sentences,vector_size=15,min_count=3,window=5)"
   ]
  },
  {
   "cell_type": "code",
   "execution_count": 12,
   "metadata": {},
   "outputs": [
    {
     "name": "stdout",
     "output_type": "stream",
     "text": [
      "顯示最相近的字彙:\n",
      " [('angels', 0.932255744934082), ('siblings', 0.9297947883605957), ('heard', 0.9260880351066589), ('angry', 0.9258539080619812), ('husband', 0.9258469939231873), ('sing', 0.9144622087478638), ('alive', 0.909217894077301), ('love', 0.9067254066467285), ('walska', 0.9003461599349976), ('immortal', 0.899937093257904)]\n",
      "顯示最相近的字彙(附加反義詞):\n",
      " [('vectis', 0.945081889629364), ('deposed', 0.9360203146934509), ('consul', 0.9318538904190063), ('reigned', 0.9188535213470459), ('sons', 0.9143949747085571)]\n",
      "顯示字彙間的相似性:(woman & man)\n",
      " 0.84980404\n",
      "顯示字彙的詞向量 [-2.5526981  -2.0871832  -0.09795381  4.199971   -0.05606341  8.606945\n",
      "  2.4687245   2.6216104   1.7624706  -1.6527392 ]\n"
     ]
    }
   ],
   "source": [
    "monitor_gensim(sentences,vector_size=20,min_count=3,window=5)"
   ]
  },
  {
   "cell_type": "code",
   "execution_count": 13,
   "metadata": {},
   "outputs": [
    {
     "name": "stdout",
     "output_type": "stream",
     "text": [
      "顯示最相近的字彙:\n",
      " [('angry', 0.9477798938751221), ('told', 0.9352877140045166), ('walska', 0.9245894551277161), ('heard', 0.9180644750595093), ('siblings', 0.9163084030151367), ('loved', 0.9124553799629211), ('angels', 0.9121376276016235), ('pregnant', 0.9097825884819031), ('husband', 0.9077851176261902), ('dying', 0.9058372974395752)]\n",
      "顯示最相近的字彙(附加反義詞):\n",
      " [('blatter', 0.9497644901275635), ('deposed', 0.9430376887321472), ('consul', 0.9243555068969727), ('overthrown', 0.922409176826477), ('assassinated', 0.9223260879516602)]\n",
      "顯示字彙間的相似性:(woman & man)\n",
      " 0.80217445\n",
      "顯示字彙的詞向量 [ 2.6856248  -1.0173321  -2.6026442   3.514722    0.8197396   7.02724\n",
      "  5.864511   -1.7213622  -1.6377035   0.07888673]\n"
     ]
    }
   ],
   "source": [
    "monitor_gensim(sentences,vector_size=5,min_count=3,window=10)"
   ]
  },
  {
   "cell_type": "code",
   "execution_count": 14,
   "metadata": {},
   "outputs": [
    {
     "name": "stdout",
     "output_type": "stream",
     "text": [
      "顯示最相近的字彙:\n",
      " [('angry', 0.9506109356880188), ('told', 0.9456720352172852), ('dying', 0.9347040057182312), ('husband', 0.9234997630119324), ('pregnant', 0.9220467209815979), ('loved', 0.9195641279220581), ('siblings', 0.9163371920585632), ('walska', 0.9143633246421814), ('carcase', 0.9088804721832275), ('angels', 0.9081008434295654)]\n",
      "顯示最相近的字彙(附加反義詞):\n",
      " [('deposed', 0.9388987421989441), ('blatter', 0.9324567317962646), ('succeeded', 0.9314865469932556), ('tsar', 0.9264711737632751), ('abdicated', 0.9167300462722778)]\n",
      "顯示字彙間的相似性:(woman & man)\n",
      " 0.80013764\n",
      "顯示字彙的詞向量 [ 2.3330493  -0.7946281  -2.5803008   3.870794    0.83709836  6.7833405\n",
      "  6.0754614  -2.3892972  -1.8711743  -0.08107763]\n"
     ]
    }
   ],
   "source": [
    "monitor_gensim(sentences,vector_size=10,min_count=3,window=10)"
   ]
  },
  {
   "cell_type": "code",
   "execution_count": 15,
   "metadata": {},
   "outputs": [
    {
     "name": "stdout",
     "output_type": "stream",
     "text": [
      "顯示最相近的字彙:\n",
      " [('told', 0.9422438740730286), ('loved', 0.9257339239120483), ('husband', 0.924116849899292), ('angry', 0.9222890138626099), ('immortal', 0.9122968316078186), ('lennon', 0.9081127643585205), ('lover', 0.9062048196792603), ('pregnant', 0.904046893119812), ('love', 0.9019213914871216), ('heard', 0.9016035199165344)]\n",
      "顯示最相近的字彙(附加反義詞):\n",
      " [('deposed', 0.950108528137207), ('consul', 0.9317758083343506), ('septimius', 0.9208688139915466), ('tsar', 0.9168975353240967), ('hulsius', 0.9141993522644043)]\n",
      "顯示字彙間的相似性:(woman & man)\n",
      " 0.8225012\n",
      "顯示字彙的詞向量 [ 1.1813157 -1.2729754 -1.7518357  3.6771421  0.731999   6.9968033\n",
      "  6.458279  -1.9589702 -0.7365427 -0.285144 ]\n"
     ]
    }
   ],
   "source": [
    "monitor_gensim(sentences,vector_size=15,min_count=3,window=10)"
   ]
  },
  {
   "cell_type": "code",
   "execution_count": 16,
   "metadata": {},
   "outputs": [
    {
     "name": "stdout",
     "output_type": "stream",
     "text": [
      "顯示最相近的字彙:\n",
      " [('angry', 0.9444227814674377), ('told', 0.9402480721473694), ('carcase', 0.9260390400886536), ('dying', 0.9160103797912598), ('loved', 0.9153521060943604), ('siblings', 0.9141598343849182), ('husband', 0.9127037525177002), ('love', 0.9094802141189575), ('heard', 0.9080950021743774), ('pregnant', 0.9076486229896545)]\n",
      "顯示最相近的字彙(附加反義詞):\n",
      " [('blatter', 0.9419264197349548), ('enghien', 0.938332200050354), ('deposed', 0.9281290173530579), ('succeeded', 0.9271754622459412), ('assassinated', 0.92051762342453)]\n",
      "顯示字彙間的相似性:(woman & man)\n",
      " 0.83913326\n",
      "顯示字彙的詞向量 [ 2.3383408  -0.9893596  -2.4868073   3.9341288   0.68513745  6.4766874\n",
      "  6.094844   -2.1194708  -1.7893246   0.48275393]\n"
     ]
    }
   ],
   "source": [
    "monitor_gensim(sentences,vector_size=20,min_count=3,window=10)"
   ]
  }
 ],
 "metadata": {
  "kernelspec": {
   "display_name": "Python 3",
   "language": "python",
   "name": "python3"
  },
  "language_info": {
   "codemirror_mode": {
    "name": "ipython",
    "version": 3
   },
   "file_extension": ".py",
   "mimetype": "text/x-python",
   "name": "python",
   "nbconvert_exporter": "python",
   "pygments_lexer": "ipython3",
   "version": "3.7.3"
  }
 },
 "nbformat": 4,
 "nbformat_minor": 2
}

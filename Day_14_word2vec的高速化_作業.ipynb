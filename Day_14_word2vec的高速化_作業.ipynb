{
 "cells": [
  {
   "cell_type": "markdown",
   "metadata": {},
   "source": [
    "### 作業目的: 更加了解word2vec高速化\n",
    "本次作業主要是幫同學更熟悉與了解透過各項技巧來加速word2vec的原理，同學可以參考章節講義來回答下列問題。"
   ]
  },
  {
   "cell_type": "markdown",
   "metadata": {},
   "source": [
    "### Q1 - 請問word2vec原本的設計有何問題以及可以怎麼對相對應的問題做改善?\n",
    "\n",
    "\n",
    "Answer:\n",
    "原本word2vec主要會有下列三個問題:\n",
    "\n",
    "輸入層中，將字詞轉化為one-hot編碼，會佔據過多的記憶體\n",
    "輸入與輸出層中，由於需要矩陣的運算，因此當字典增加到很龐大的時候，就會需要更多的計算資源與時間\n",
    "最後的softmax輸出在計算上會隨著字典增加而複雜度線性上升\n",
    "因此透過\n",
    "\n",
    "Embedding層，利用index的方式取出需要訓練的列向量，這樣的方式可以解決one-hot佔據過多記憶體與矩陣龐大運算量的問題\n",
    "Hierarchical softmax或negative sampling可以將多元分類問題轉化為多個二元分類的問題，從而簡化原softmax輸出在計算上複雜度較高的問題"
   ]
  },
  {
   "cell_type": "markdown",
   "metadata": {},
   "source": [
    "### Q2 - 請問在Negative Sampling中的次方係數，會如何影響字詞的抽取?\n",
    "Hint: 如何影響高頻詞與低頻詞的抽取機率\n",
    "\n",
    "Answer:\n",
    "Answer: 當將次方項縮小(ex: 1 --> 0.75 or 0.75 --> 0.5)，會使低頻詞被抽取的機率提升，這樣可以平衡話高頻詞與低頻詞的抽取機率。可以參考下列簡略計算，假使字典有三個字詞，而此三個字詞的頻率分別為15, 10, 2，而不同次方得到的抽取機率如下\n",
    "\n",
    "(雖然我們希望可以使高頻詞被抽取的機率較高，但低頻詞也是需要被訓練，因此透過次方數可以調整平衡高低頻詞的抽取機率)"
   ]
  },
  {
   "cell_type": "code",
   "execution_count": 1,
   "metadata": {},
   "outputs": [
    {
     "name": "stdout",
     "output_type": "stream",
     "text": [
      "[0.55555556 0.37037037 0.07407407]\n",
      "[0.28229597 0.20827456 0.06228862]\n",
      "[0.14344383 0.11712139 0.05237828]\n"
     ]
    }
   ],
   "source": [
    "import numpy as np\n",
    "a = [15, 10, 2]\n",
    "denominator = np.sum(a)\n",
    "numerator = a\n",
    "numerator2 = np.power(a, 0.75)\n",
    "numerator3 = np.power(a, 0.5)\n",
    "print(numerator/denominator)\n",
    "print(numerator2/denominator)\n",
    "print(numerator3/denominator)"
   ]
  },
  {
   "cell_type": "code",
   "execution_count": null,
   "metadata": {},
   "outputs": [],
   "source": []
  }
 ],
 "metadata": {
  "kernelspec": {
   "display_name": "Python 3",
   "language": "python",
   "name": "python3"
  },
  "language_info": {
   "codemirror_mode": {
    "name": "ipython",
    "version": 3
   },
   "file_extension": ".py",
   "mimetype": "text/x-python",
   "name": "python",
   "nbconvert_exporter": "python",
   "pygments_lexer": "ipython3",
   "version": "3.7.3"
  }
 },
 "nbformat": 4,
 "nbformat_minor": 2
}

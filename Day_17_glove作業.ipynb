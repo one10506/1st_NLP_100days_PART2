{
 "cells": [
  {
   "cell_type": "markdown",
   "metadata": {
    "id": "Eahg49YB26Dz"
   },
   "source": [
    "# 作業 : 變更不同的 GloVe 模型, 並使用 gensim 套件觀察模型表現"
   ]
  },
  {
   "cell_type": "markdown",
   "metadata": {
    "id": "YGoyi4sV26D1"
   },
   "source": [
    "# [作業目標]\n",
    "- 載入不同版本的 GloVe 模型, 並觀察模型間有何差異"
   ]
  },
  {
   "cell_type": "markdown",
   "metadata": {
    "id": "zbjTpbTL26D2"
   },
   "source": [
    "# [作業重點]\n",
    "- 觀察 GloVe 不同的預訓練詞向量, 效果間的差異"
   ]
  },
  {
   "cell_type": "markdown",
   "metadata": {
    "id": "zdWgxrSE26D2"
   },
   "source": [
    "# Step 1\n",
    "- 到 GloVe 官方網站 (https://github.com/stanfordnlp/GloVe), 由四組預訓練模型選擇一項下載\n",
    "- 將模型檔解壓縮後, 選擇並複製詞向量檔到本程式同一執行目錄中\n",
    "- 依照你所選擇的詞向量檔, 修改設定模型中的\"input_file\"與\"output_file\", 再執行後續程式"
   ]
  },
  {
   "cell_type": "code",
   "execution_count": 1,
   "metadata": {
    "id": "fusOlDux26D2"
   },
   "outputs": [
    {
     "name": "stderr",
     "output_type": "stream",
     "text": [
      "/Users/linrongwei/anaconda3/lib/python3.7/site-packages/gensim/similarities/__init__.py:15: UserWarning: The gensim.similarities.levenshtein submodule is disabled, because the optional Levenshtein package <https://pypi.org/project/python-Levenshtein/> is unavailable. Install Levenhstein (e.g. `pip install python-Levenshtein`) to suppress this warning.\n",
      "  warnings.warn(msg)\n"
     ]
    }
   ],
   "source": [
    "# 載入 gensim 與 GloVe 模型容器\n",
    "from gensim.models import KeyedVectors\n",
    "from gensim.scripts.glove2word2vec import glove2word2vec\n",
    "\n",
    "# 忽略警告訊息\n",
    "import warnings\n",
    "warnings.filterwarnings(\"ignore\")"
   ]
  },
  {
   "cell_type": "code",
   "execution_count": 2,
   "metadata": {
    "id": "A0kW62M826D3"
   },
   "outputs": [
    {
     "data": {
      "text/plain": [
       "(400000, 50)"
      ]
     },
     "execution_count": 2,
     "metadata": {},
     "output_type": "execute_result"
    }
   ],
   "source": [
    "# 設定模型\n",
    "input_file = 'glove/glove.6B.50d.txt'\n",
    "output_file = 'gensim_glove.6B.50d.txt'\n",
    "glove2word2vec(input_file, output_file)"
   ]
  },
  {
   "cell_type": "code",
   "execution_count": 3,
   "metadata": {
    "id": "Uf3wOKlA26D3"
   },
   "outputs": [],
   "source": [
    "# 轉換並讀取模型\n",
    "model = KeyedVectors.load_word2vec_format(output_file, binary=False)"
   ]
  },
  {
   "cell_type": "markdown",
   "metadata": {
    "id": "wsXDXMnw26D3"
   },
   "source": [
    "# Step 2\n",
    "- 觀察變更預訓練詞向量的效果"
   ]
  },
  {
   "cell_type": "code",
   "execution_count": 4,
   "metadata": {
    "id": "1daQYTFB26D4"
   },
   "outputs": [
    {
     "data": {
      "text/plain": [
       "[('girl', 0.906528115272522),\n",
       " ('man', 0.8860336542129517),\n",
       " ('mother', 0.876370370388031),\n",
       " ('her', 0.8613135814666748),\n",
       " ('boy', 0.859611988067627),\n",
       " ('she', 0.8430695533752441),\n",
       " ('herself', 0.8224567770957947),\n",
       " ('child', 0.8108214735984802),\n",
       " ('wife', 0.8037394285202026),\n",
       " ('old', 0.7982394695281982)]"
      ]
     },
     "execution_count": 4,
     "metadata": {},
     "output_type": "execute_result"
    }
   ],
   "source": [
    "# 顯示最相近的字彙\n",
    "model.most_similar(['woman'])"
   ]
  },
  {
   "cell_type": "code",
   "execution_count": 5,
   "metadata": {
    "id": "pRzXuAvz26D4"
   },
   "outputs": [
    {
     "data": {
      "text/plain": [
       "[('queen', 0.8523604273796082),\n",
       " ('throne', 0.7664334177970886),\n",
       " ('prince', 0.759214460849762),\n",
       " ('daughter', 0.7473882436752319),\n",
       " ('elizabeth', 0.7460219860076904)]"
      ]
     },
     "execution_count": 5,
     "metadata": {},
     "output_type": "execute_result"
    }
   ],
   "source": [
    "# 顯示最相近的字彙(附加反義詞)\n",
    "model.most_similar(positive=['woman', 'king'], negative=['man'], topn=5)"
   ]
  },
  {
   "cell_type": "code",
   "execution_count": 7,
   "metadata": {
    "id": "x42x5lM526D4"
   },
   "outputs": [
    {
     "data": {
      "text/plain": [
       "'cereal'"
      ]
     },
     "execution_count": 7,
     "metadata": {},
     "output_type": "execute_result"
    }
   ],
   "source": [
    "# 挑選最不相同的字彙\n",
    "model.doesnt_match(\"breakfast cereal dinner lunch\".split())"
   ]
  },
  {
   "cell_type": "code",
   "execution_count": 9,
   "metadata": {
    "id": "082fUwN026D4"
   },
   "outputs": [
    {
     "data": {
      "text/plain": [
       "0.8860338"
      ]
     },
     "execution_count": 9,
     "metadata": {},
     "output_type": "execute_result"
    }
   ],
   "source": [
    "# 顯示字彙間的相似性\n",
    "model.similarity('woman', 'man')"
   ]
  },
  {
   "cell_type": "code",
   "execution_count": 10,
   "metadata": {
    "id": "_-20utuZ26D4"
   },
   "outputs": [
    {
     "data": {
      "text/plain": [
       "array([ 0.079084, -0.81504 ,  1.7901  ,  0.91653 ,  0.10797 , -0.55628 ,\n",
       "       -0.84427 , -1.4951  ,  0.13418 ,  0.63627 ,  0.35146 ,  0.25813 ,\n",
       "       -0.55029 ,  0.51056 ,  0.37409 ,  0.12092 , -1.6166  ,  0.83653 ,\n",
       "        0.14202 , -0.52348 ,  0.73453 ,  0.12207 , -0.49079 ,  0.32533 ,\n",
       "        0.45306 , -1.585   , -0.63848 , -1.0053  ,  0.10454 , -0.42984 ,\n",
       "        3.181   , -0.62187 ,  0.16819 , -1.0139  ,  0.064058,  0.57844 ,\n",
       "       -0.4556  ,  0.73783 ,  0.37203 , -0.57722 ,  0.66441 ,  0.055129,\n",
       "        0.037891,  1.3275  ,  0.30991 ,  0.50697 ,  1.2357  ,  0.1274  ,\n",
       "       -0.11434 ,  0.20709 ], dtype=float32)"
      ]
     },
     "execution_count": 10,
     "metadata": {},
     "output_type": "execute_result"
    }
   ],
   "source": [
    "# 顯示字彙的詞向量\n",
    "model['computer']"
   ]
  },
  {
   "cell_type": "code",
   "execution_count": 11,
   "metadata": {
    "id": "bP_o11tT26D5"
   },
   "outputs": [
    {
     "data": {
      "text/plain": [
       "(400000, 300)"
      ]
     },
     "execution_count": 11,
     "metadata": {},
     "output_type": "execute_result"
    }
   ],
   "source": [
    "input_file2 = 'glove/glove.6B.300d.txt'\n",
    "output_file2 = 'gensim_glove.6B.300d.txt'\n",
    "glove2word2vec(input_file2, output_file2)"
   ]
  },
  {
   "cell_type": "code",
   "execution_count": 12,
   "metadata": {},
   "outputs": [],
   "source": [
    "def glove_monitor(output_file):\n",
    "    model = KeyedVectors.load_word2vec_format(output_file, binary=False)\n",
    "    print('# 顯示最相近的字彙:\\n',model.most_similar(['woman']))\n",
    "    print('顯示最相近的字彙(附加反義詞):\\n',model.most_similar(positive=['woman', 'king'], negative=['man'], topn=5))\n",
    "    print('挑選最不相同的字彙:\\n',model.doesnt_match(\"breakfast cereal dinner lunch\".split()))\n",
    "    print('顯示字彙間的相似性\"\\n',model.similarity('woman', 'man'))\n",
    "    print('顯示字彙的詞向量\"\\n',model['computer'])"
   ]
  },
  {
   "cell_type": "code",
   "execution_count": 14,
   "metadata": {},
   "outputs": [
    {
     "name": "stdout",
     "output_type": "stream",
     "text": [
      "# 顯示最相近的字彙:\n",
      " [('girl', 0.7296419143676758), ('man', 0.6998663544654846), ('mother', 0.689943790435791), ('she', 0.6433226466178894), ('her', 0.6327142715454102), ('female', 0.6251604557037354), ('herself', 0.6215280890464783), ('person', 0.6170896887779236), ('women', 0.6047608852386475), ('wife', 0.5986992716789246)]\n",
      "顯示最相近的字彙(附加反義詞):\n",
      " [('queen', 0.6713276505470276), ('princess', 0.5432624220848083), ('throne', 0.5386104583740234), ('monarch', 0.5347574949264526), ('daughter', 0.498025119304657)]\n",
      "挑選最不相同的字彙:\n",
      " cereal\n",
      "顯示字彙間的相似性\"\n",
      " 0.69986635\n",
      "顯示字彙的詞向量\"\n",
      " [-2.7628e-01  1.3999e-01  9.8519e-02 -6.4019e-01  3.1988e-02  1.0066e-01\n",
      " -1.8673e-01 -3.7129e-01  5.9740e-01 -2.0405e+00  2.2368e-01 -2.6314e-02\n",
      "  7.2408e-01 -4.3829e-01  4.8886e-01 -3.5486e-03 -1.0006e-01 -3.0587e-01\n",
      " -1.5621e-01 -6.8136e-02  2.1104e-01  2.9287e-01 -8.8861e-02 -2.0462e-01\n",
      " -5.7602e-01  3.4526e-01  4.1390e-01  1.7917e-01  2.5143e-01 -2.2678e-01\n",
      " -1.0103e-01  1.4576e-01  2.0127e-01  3.1810e-01 -7.8907e-01 -2.2194e-01\n",
      " -2.4833e-01 -1.5103e-02 -2.0050e-01 -2.6441e-02  1.8551e-01  3.3782e-01\n",
      " -3.3543e-01  8.6117e-01 -4.7083e-02 -1.7009e-01  3.0438e-01  9.4119e-02\n",
      "  3.2435e-01 -8.1171e-01  8.8966e-01 -3.9149e-01  1.6828e-01  1.4316e-01\n",
      "  3.6339e-03 -6.4557e-02  4.5777e-02 -3.2248e-01  4.8943e-02  1.6817e-01\n",
      "  6.8344e-02  5.4227e-01  1.2493e-01  6.9742e-01 -3.7194e-02  3.3080e-01\n",
      " -4.2194e-01  3.3970e-01  2.7646e-01 -1.6003e-02 -2.1827e-01  4.4535e-01\n",
      "  3.5379e-01 -2.2089e-02  2.1375e-01  4.3267e-01 -3.2897e-01  9.6165e-02\n",
      "  3.1265e-01 -3.0528e-01  2.6126e-01 -6.5364e-01 -7.8014e-01 -2.3154e-01\n",
      "  1.2113e-01  3.4896e-01 -5.5444e-01  4.6619e-01 -1.6520e-01  1.1611e-01\n",
      " -7.6676e-01  6.9502e-01 -1.5698e-01 -1.2490e-01  5.6505e-01  6.4499e-01\n",
      " -5.7403e-01 -3.3549e-02  3.2898e-01 -1.4025e+00 -3.1143e-01  6.4549e-01\n",
      " -6.1534e-02 -6.9295e-01  6.0894e-04 -5.6544e-01  1.9181e-01 -1.9208e-01\n",
      " -6.2673e-01 -9.7473e-03 -5.5040e-01 -5.6128e-01 -1.9603e-01  2.9254e-01\n",
      "  9.8576e-02 -5.9395e-02  3.3616e-03  1.9515e-01 -6.0703e-01  3.4262e-01\n",
      "  9.5211e-02 -7.9411e-02  1.4305e-01 -5.6569e-01 -6.5887e-02  1.5167e-01\n",
      " -1.3505e-01  1.9571e-01  2.2812e-01  3.5346e-02 -2.2509e-01  1.8910e-01\n",
      " -3.7348e-01  1.2505e-01  4.6249e-01 -3.2219e-01  9.0643e-01  1.1595e-01\n",
      "  1.1628e-01  2.2961e-01  2.4010e-01 -6.1609e-02  3.9325e-01 -6.5066e-02\n",
      "  4.2257e-01  5.6880e-01  4.9804e-01 -6.1308e-01  4.1468e-01 -1.3448e-01\n",
      "  6.0430e-01 -6.5462e-02 -8.5376e-02  1.9115e-01  3.9925e-01  3.7495e-01\n",
      " -1.8492e-01  6.1751e-02 -3.8747e-01 -3.0335e-01 -3.8211e-01  2.8221e-01\n",
      " -1.0286e-01 -5.8660e-01  8.2922e-01  2.5131e-01  2.4772e-01  8.7482e-01\n",
      " -3.1359e-01  8.1621e-01 -9.0081e-01 -7.7933e-01 -1.0090e+00  3.6472e-01\n",
      " -1.1562e-01 -2.4841e-01  9.4527e-02 -4.2266e-01  6.0392e-02 -1.5365e-01\n",
      " -6.9604e-02  5.1292e-03  3.9572e-01 -1.5692e-01  3.5708e-01 -3.5165e-01\n",
      "  3.5296e-01 -5.2220e-01  5.1400e-01 -1.7764e-01 -1.0272e-01 -3.9640e-01\n",
      "  3.0418e-01  7.3659e-02 -1.1685e-01  1.4299e-01 -3.6810e-01  2.7642e-01\n",
      " -4.6683e-01 -3.2633e-01  5.1107e-01  2.3945e-02  1.1723e-01  2.1761e-01\n",
      " -1.7389e-01 -6.1193e-01 -5.9449e-01  4.7749e-01 -5.9008e-01 -3.6092e-01\n",
      " -9.9574e-02 -4.3098e-02 -1.5106e-01 -1.4336e-01 -3.1135e-02  1.7887e-01\n",
      " -6.4221e-01  1.7242e-01  3.3916e-01  8.7181e-01 -7.7230e-01  5.3195e-01\n",
      " -5.2763e-01  1.7510e-01  3.1043e-01 -1.5177e-01 -2.2706e-01  1.0803e-01\n",
      "  4.4919e-01  7.0016e-02  2.0851e-01  2.1517e-01 -6.1712e-01 -9.9970e-02\n",
      "  5.5020e-03  7.6786e-02  2.8046e-01  4.2331e-01 -5.8925e-01  7.0554e-02\n",
      "  3.9923e-01  9.0201e-02  1.7139e-01 -1.7282e-01 -5.3675e-01 -4.6439e-01\n",
      " -5.7850e-01 -6.8311e-01  5.9383e-02  1.2427e-01 -1.4558e-01  5.7687e-01\n",
      " -5.7499e-01 -5.1645e-02  3.8410e-01  1.3047e-01  3.3786e-01  3.3204e-01\n",
      "  4.0119e-01  2.6389e-01 -3.6953e-01 -2.9797e-01 -6.6816e-01 -1.1883e-01\n",
      "  5.0133e-01  2.0603e-01 -3.2558e-01 -1.2242e-01  5.0666e-01  1.6353e-01\n",
      " -1.0672e-01  2.2364e-01  2.3915e-01 -5.5509e-01 -4.8432e-01 -1.2165e-02\n",
      " -1.7992e+00  3.2310e-01 -2.6309e-01 -3.2538e-01 -5.8270e-01  1.5099e-01\n",
      "  3.3838e-01  1.2007e-01  4.1395e-01 -1.5553e-01 -1.9301e-01  5.8860e-02\n",
      " -5.2420e-01 -3.7170e-01  5.6205e-01 -6.5801e-01 -4.9796e-01  2.4347e-01\n",
      "  1.2873e-01  3.3665e-01 -7.2609e-02 -1.5686e-01 -1.4187e-01 -2.6488e-01]\n"
     ]
    }
   ],
   "source": [
    "glove_monitor(output_file2)"
   ]
  },
  {
   "cell_type": "markdown",
   "metadata": {},
   "source": [
    "當維度變大時，模型訓練的越好，但相對地，載入及訓練時間也較久，在衡量維度的準確以及訓練時間也是相當重要的"
   ]
  },
  {
   "cell_type": "code",
   "execution_count": null,
   "metadata": {},
   "outputs": [],
   "source": []
  }
 ],
 "metadata": {
  "colab": {
   "name": "CH19_作業.ipynb",
   "provenance": []
  },
  "kernelspec": {
   "display_name": "Python 3",
   "language": "python",
   "name": "python3"
  },
  "language_info": {
   "codemirror_mode": {
    "name": "ipython",
    "version": 3
   },
   "file_extension": ".py",
   "mimetype": "text/x-python",
   "name": "python",
   "nbconvert_exporter": "python",
   "pygments_lexer": "ipython3",
   "version": "3.7.3"
  }
 },
 "nbformat": 4,
 "nbformat_minor": 1
}
